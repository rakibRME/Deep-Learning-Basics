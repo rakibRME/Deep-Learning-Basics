{
  "cells": [
    {
      "cell_type": "markdown",
      "metadata": {
        "id": "07PQg308ufpi"
      },
      "source": [
        "1. Importing Libraries and Initial setup"
      ]
    },
    {
      "cell_type": "code",
      "execution_count": 2,
      "metadata": {
        "id": "ZXg_Ma2It1Rb"
      },
      "outputs": [],
      "source": [
        "import warnings\n",
        "import numpy as np\n",
        "import pandas as pd\n",
        "import matplotlib.pyplot as plt\n",
        "import seaborn as sns\n",
        "plt.style.use('fivethirtyeight')\n",
        "%matplotlib inline\n",
        "warnings.filterwarnings('ignore')\n"
      ]
    },
    {
      "cell_type": "markdown",
      "metadata": {
        "id": "UVNZdGb_ujra"
      },
      "source": [
        "Now let’s read the training and test data using the pandas data frame."
      ]
    },
    {
      "cell_type": "code",
      "execution_count": 3,
      "metadata": {
        "colab": {
          "base_uri": "https://localhost:8080/"
        },
        "id": "oCkowVdzuO8f",
        "outputId": "ab2965f0-6396-41c9-9a4e-0e603c15328f"
      },
      "outputs": [
        {
          "data": {
            "text/plain": [
              "(891, 12)"
            ]
          },
          "execution_count": 3,
          "metadata": {},
          "output_type": "execute_result"
        }
      ],
      "source": [
        "train = pd.read_csv(\"H:\\Git\\DL-Data-Sets\\Titanic_train.csv\")\n",
        "test = pd.read_csv(\"H:\\Git\\DL-Data-Sets\\Titanic_test.csv\")\n",
        "\n",
        "# To know number of columns and rows\n",
        "train.shape\n",
        "# (891, 12)\n"
      ]
    },
    {
      "cell_type": "markdown",
      "metadata": {
        "id": "ZT5BvNaBwRN5"
      },
      "source": [
        "To know the information about each column like the data type, etc we use the df.info() function."
      ]
    },
    {
      "cell_type": "code",
      "execution_count": 11,
      "metadata": {
        "colab": {
          "base_uri": "https://localhost:8080/"
        },
        "id": "uLDOGh7BupKE",
        "outputId": "9d44362b-0162-4df6-eddc-acbd593a7a40"
      },
      "outputs": [
        {
          "name": "stdout",
          "output_type": "stream",
          "text": [
            "<class 'pandas.core.frame.DataFrame'>\n",
            "RangeIndex: 891 entries, 0 to 890\n",
            "Data columns (total 12 columns):\n",
            " #   Column       Non-Null Count  Dtype  \n",
            "---  ------       --------------  -----  \n",
            " 0   PassengerId  891 non-null    int64  \n",
            " 1   Survived     891 non-null    int64  \n",
            " 2   Pclass       891 non-null    int64  \n",
            " 3   Name         891 non-null    object \n",
            " 4   Sex          891 non-null    object \n",
            " 5   Age          714 non-null    float64\n",
            " 6   SibSp        891 non-null    int64  \n",
            " 7   Parch        891 non-null    int64  \n",
            " 8   Ticket       891 non-null    object \n",
            " 9   Fare         891 non-null    float64\n",
            " 10  Cabin        204 non-null    object \n",
            " 11  Embarked     889 non-null    object \n",
            "dtypes: float64(2), int64(5), object(5)\n",
            "memory usage: 83.7+ KB\n"
          ]
        }
      ],
      "source": [
        "train.info()\n"
      ]
    },
    {
      "cell_type": "markdown",
      "metadata": {
        "id": "E3SX3NkVweFi"
      },
      "source": [
        "Now let’s see if there are any NULL values present in the dataset. This can be checked using the isnull() function. It yields the following output."
      ]
    },
    {
      "cell_type": "code",
      "execution_count": 12,
      "metadata": {
        "colab": {
          "base_uri": "https://localhost:8080/",
          "height": 460
        },
        "id": "Nxvx4FIiwUZ-",
        "outputId": "bd2f931c-7158-4798-eaec-e121693c4c42"
      },
      "outputs": [
        {
          "data": {
            "text/html": [
              "<div>\n",
              "<style scoped>\n",
              "    .dataframe tbody tr th:only-of-type {\n",
              "        vertical-align: middle;\n",
              "    }\n",
              "\n",
              "    .dataframe tbody tr th {\n",
              "        vertical-align: top;\n",
              "    }\n",
              "\n",
              "    .dataframe thead th {\n",
              "        text-align: right;\n",
              "    }\n",
              "</style>\n",
              "<table border=\"1\" class=\"dataframe\">\n",
              "  <thead>\n",
              "    <tr style=\"text-align: right;\">\n",
              "      <th></th>\n",
              "      <th>0</th>\n",
              "    </tr>\n",
              "  </thead>\n",
              "  <tbody>\n",
              "    <tr>\n",
              "      <th>PassengerId</th>\n",
              "      <td>0</td>\n",
              "    </tr>\n",
              "    <tr>\n",
              "      <th>Survived</th>\n",
              "      <td>0</td>\n",
              "    </tr>\n",
              "    <tr>\n",
              "      <th>Pclass</th>\n",
              "      <td>0</td>\n",
              "    </tr>\n",
              "    <tr>\n",
              "      <th>Name</th>\n",
              "      <td>0</td>\n",
              "    </tr>\n",
              "    <tr>\n",
              "      <th>Sex</th>\n",
              "      <td>0</td>\n",
              "    </tr>\n",
              "    <tr>\n",
              "      <th>Age</th>\n",
              "      <td>177</td>\n",
              "    </tr>\n",
              "    <tr>\n",
              "      <th>SibSp</th>\n",
              "      <td>0</td>\n",
              "    </tr>\n",
              "    <tr>\n",
              "      <th>Parch</th>\n",
              "      <td>0</td>\n",
              "    </tr>\n",
              "    <tr>\n",
              "      <th>Ticket</th>\n",
              "      <td>0</td>\n",
              "    </tr>\n",
              "    <tr>\n",
              "      <th>Fare</th>\n",
              "      <td>0</td>\n",
              "    </tr>\n",
              "    <tr>\n",
              "      <th>Cabin</th>\n",
              "      <td>687</td>\n",
              "    </tr>\n",
              "    <tr>\n",
              "      <th>Embarked</th>\n",
              "      <td>2</td>\n",
              "    </tr>\n",
              "  </tbody>\n",
              "</table>\n",
              "</div><br><label><b>dtype:</b> int64</label>"
            ],
            "text/plain": [
              "PassengerId      0\n",
              "Survived         0\n",
              "Pclass           0\n",
              "Name             0\n",
              "Sex              0\n",
              "Age            177\n",
              "SibSp            0\n",
              "Parch            0\n",
              "Ticket           0\n",
              "Fare             0\n",
              "Cabin          687\n",
              "Embarked         2\n",
              "dtype: int64"
            ]
          },
          "execution_count": 12,
          "metadata": {},
          "output_type": "execute_result"
        }
      ],
      "source": [
        "train.isnull().sum()\n"
      ]
    },
    {
      "cell_type": "markdown",
      "metadata": {
        "id": "0nakt-YrwnD9"
      },
      "source": [
        "2. Data Visualization: Understanding Survival Trends and Passenger Demographics\n",
        "Now let us visualize the data using some pie charts and histograms to get a proper understanding of the data.\n",
        "\n",
        "Let us first visualize the number of survivors and death counts:"
      ]
    },
    {
      "cell_type": "code",
      "execution_count": 13,
      "metadata": {
        "colab": {
          "base_uri": "https://localhost:8080/",
          "height": 282
        },
        "id": "1T4BrQrywf59",
        "outputId": "23d40c03-7b26-4305-a79c-72fafdde3658"
      },
      "outputs": [
        {
          "data": {
            "image/png": "[encoded data removed]",
            "text/plain": [
              "<Figure size 1200x400 with 2 Axes>"
            ]
          },
          "metadata": {},
          "output_type": "display_data"
        }
      ],
      "source": [
        "f, ax = plt.subplots(1, 2, figsize=(12, 4))\n",
        "train['Survived'].value_counts().plot.pie(\n",
        "    explode=[0, 0.1], autopct='%1.1f%%', ax=ax[0], shadow=False)\n",
        "ax[0].set_title('Survivors (1) and the dead (0)')\n",
        "ax[0].set_ylabel('')\n",
        "sns.countplot(x='Survived', data=train, ax=ax[1])\n",
        "ax[1].set_ylabel('Quantity')\n",
        "ax[1].set_title('Survivors (1) and the dead (0)')\n",
        "plt.show()\n",
        "\n",
        "# This code is modified by Susobhan Akhuli\n"
      ]
    },
    {
      "cell_type": "markdown",
      "metadata": {
        "id": "DQGy_Gz5xaQ5"
      },
      "source": [
        "Analyzing the Impact of Sex on Survival Rates: Reflects the focus on exploring how the gender of passengers influenced their chances of survival."
      ]
    },
    {
      "cell_type": "code",
      "execution_count": 14,
      "metadata": {
        "colab": {
          "base_uri": "https://localhost:8080/",
          "height": 272
        },
        "id": "-05pA5BgwpYa",
        "outputId": "2115efbb-d97f-47eb-c271-af2d437960aa"
      },
      "outputs": [
        {
          "data": {
            "image/png": "[encoded data removed]",
            "text/plain": [
              "<Figure size 1200x400 with 2 Axes>"
            ]
          },
          "metadata": {},
          "output_type": "display_data"
        }
      ],
      "source": [
        "f, ax = plt.subplots(1, 2, figsize=(12, 4))\n",
        "train[['Sex', 'Survived']].groupby(['Sex']).mean().plot.bar(ax=ax[0])\n",
        "ax[0].set_title('Survivors by sex')\n",
        "sns.countplot(x='Sex', hue='Survived', data=train, ax=ax[1])\n",
        "ax[1].set_ylabel('Quantity')\n",
        "ax[1].set_title('Survived (1) and deceased (0): men and women')\n",
        "plt.show()\n",
        "\n",
        "# This code is modified by Susobhan Akhuli\n"
      ]
    },
    {
      "cell_type": "markdown",
      "metadata": {
        "id": "eSwkf7UUyvfa"
      },
      "source": [
        "3. Feature Engineering: Optimizing Data for Model Training\n",
        "This section focuses on refining the dataset by removing irrelevant features and transforming categorical data into numerical formats. Key tasks include:\n",
        "\n",
        "Dropping Redundant Features: Removing columns like Cabin that offer limited predictive value.\n",
        "Creating New Features: Introducing a new column to indicate whether cabin information was assigned or not.\n",
        "Data Transformation: Converting textual data into numerical categories for seamless model training."
      ]
    },
    {
      "cell_type": "code",
      "execution_count": 15,
      "metadata": {
        "id": "JxIQxokPxcTA"
      },
      "outputs": [],
      "source": [
        "train = train.drop(['Cabin'], axis=1)\n",
        "test = test.drop(['Cabin'], axis=1)\n"
      ]
    },
    {
      "cell_type": "markdown",
      "metadata": {
        "id": "Uhmnb2F_y0_M"
      },
      "source": [
        "We can also drop the Ticket feature since it’s unlikely to yield any useful information."
      ]
    },
    {
      "cell_type": "code",
      "execution_count": 16,
      "metadata": {
        "id": "Z7-k6Iq4yyAG"
      },
      "outputs": [],
      "source": [
        "train = train.drop(['Ticket'], axis=1)\n",
        "test = test.drop(['Ticket'], axis=1)\n"
      ]
    },
    {
      "cell_type": "markdown",
      "metadata": {
        "id": "GXEQ90vOy-aV"
      },
      "source": [
        "There are missing values in the Embarked feature. For that, we will replace the NULL values with ‘S’ as the number of Embarks for ‘S’ are higher than the other two."
      ]
    },
    {
      "cell_type": "code",
      "execution_count": 17,
      "metadata": {
        "id": "3UYZkjqqy4D1"
      },
      "outputs": [],
      "source": [
        "# replacing the missing values in\n",
        "# the Embarked feature with S\n",
        "train = train.fillna({\"Embarked\": \"S\"})\n"
      ]
    },
    {
      "cell_type": "markdown",
      "metadata": {
        "id": "Oy-OHctdzFi7"
      },
      "source": [
        "We will now sort the age into groups. We will combine the age groups of the people and categorize them into the same groups. BY doing so we will be having fewer categories and will have a better prediction since it will be a categorical dataset."
      ]
    },
    {
      "cell_type": "code",
      "execution_count": 18,
      "metadata": {
        "id": "a1aGVzv0zAW1"
      },
      "outputs": [],
      "source": [
        "# sort the ages into logical categories\n",
        "train[\"Age\"] = train[\"Age\"].fillna(-0.5)\n",
        "test[\"Age\"] = test[\"Age\"].fillna(-0.5)\n",
        "bins = [-1, 0, 5, 12, 18, 24, 35, 60, np.inf]\n",
        "labels = ['Unknown', 'Baby', 'Child', 'Teenager',\n",
        "          'Student', 'Young Adult', 'Adult', 'Senior']\n",
        "train['AgeGroup'] = pd.cut(train[\"Age\"], bins, labels=labels)\n",
        "test['AgeGroup'] = pd.cut(test[\"Age\"], bins, labels=labels)\n"
      ]
    },
    {
      "cell_type": "markdown",
      "metadata": {
        "id": "SR_2ruunz6fU"
      },
      "source": [
        "In the ‘title’ column for both the test and train set, we will categorize them into an equal number of classes. Then we will assign numerical values to the title for convenience of model training."
      ]
    },
    {
      "cell_type": "code",
      "execution_count": 19,
      "metadata": {
        "id": "67KWyslnzRwO"
      },
      "outputs": [],
      "source": [
        "# create a combined group of both datasets\n",
        "combine = [train, test]\n",
        "\n",
        "# extract a title for each Name in the\n",
        "# train and test datasets\n",
        "for dataset in combine:\n",
        "    dataset['Title'] = dataset.Name.str.extract(' ([A-Za-z]+)\\.', expand=False)\n",
        "\n",
        "pd.crosstab(train['Title'], train['Sex'])\n",
        "\n",
        "# replace various titles with more common names\n",
        "for dataset in combine:\n",
        "    dataset['Title'] = dataset['Title'].replace(['Lady', 'Capt', 'Col',\n",
        "                                                 'Don', 'Dr', 'Major',\n",
        "                                                 'Rev', 'Jonkheer', 'Dona'],\n",
        "                                                'Rare')\n",
        "\n",
        "    dataset['Title'] = dataset['Title'].replace(\n",
        "        ['Countess', 'Lady', 'Sir'], 'Royal')\n",
        "    dataset['Title'] = dataset['Title'].replace('Mlle', 'Miss')\n",
        "    dataset['Title'] = dataset['Title'].replace('Ms', 'Miss')\n",
        "    dataset['Title'] = dataset['Title'].replace('Mme', 'Mrs')\n",
        "\n",
        "train[['Title', 'Survived']].groupby(['Title'], as_index=False).mean()\n",
        "\n",
        "# map each of the title groups to a numerical value\n",
        "title_mapping = {\"Mr\": 1, \"Miss\": 2, \"Mrs\": 3,\n",
        "                 \"Master\": 4, \"Royal\": 5, \"Rare\": 6}\n",
        "for dataset in combine:\n",
        "    dataset['Title'] = dataset['Title'].map(title_mapping)\n",
        "    dataset['Title'] = dataset['Title'].fillna(0)\n"
      ]
    },
    {
      "cell_type": "markdown",
      "metadata": {
        "id": "e497QQeI0Bfb"
      },
      "source": [
        "Now using the title information we can fill in the missing age values"
      ]
    },
    {
      "cell_type": "code",
      "execution_count": 20,
      "metadata": {
        "id": "WLSfZwJiz_4t"
      },
      "outputs": [],
      "source": [
        "mr_age = train[train[\"Title\"] == 1][\"AgeGroup\"].mode()  # Young Adult\n",
        "miss_age = train[train[\"Title\"] == 2][\"AgeGroup\"].mode()  # Student\n",
        "mrs_age = train[train[\"Title\"] == 3][\"AgeGroup\"].mode()  # Adult\n",
        "master_age = train[train[\"Title\"] == 4][\"AgeGroup\"].mode()  # Baby\n",
        "royal_age = train[train[\"Title\"] == 5][\"AgeGroup\"].mode()  # Adult\n",
        "rare_age = train[train[\"Title\"] == 6][\"AgeGroup\"].mode()  # Adult\n",
        "\n",
        "age_title_mapping = {1: \"Young Adult\", 2: \"Student\",\n",
        "                     3: \"Adult\", 4: \"Baby\", 5: \"Adult\", 6: \"Adult\"}\n",
        "\n",
        "for x in range(len(train[\"AgeGroup\"])):\n",
        "    if train[\"AgeGroup\"][x] == \"Unknown\":\n",
        "        train[\"AgeGroup\"][x] = age_title_mapping[train[\"Title\"][x]]\n",
        "\n",
        "for x in range(len(test[\"AgeGroup\"])):\n",
        "    if test[\"AgeGroup\"][x] == \"Unknown\":\n",
        "        test[\"AgeGroup\"][x] = age_title_mapping[test[\"Title\"][x]]\n"
      ]
    },
    {
      "cell_type": "markdown",
      "metadata": {
        "id": "VqvJPbvU0L84"
      },
      "source": [
        "Now assign a numerical value to each age category. Once we have mapped the age into different categories we do not need the age feature. Hence drop it"
      ]
    },
    {
      "cell_type": "code",
      "execution_count": 22,
      "metadata": {
        "id": "ZHOSk-fH0E3V"
      },
      "outputs": [],
      "source": [
        "# map each Age value to a numerical value\n",
        "age_mapping = {'Baby': 1, 'Child': 2, 'Teenager': 3,\n",
        "               'Student': 4, 'Young Adult': 5, 'Adult': 6,\n",
        "               'Senior': 7}\n",
        "train['AgeGroup'] = train['AgeGroup'].map(age_mapping)\n",
        "test['AgeGroup'] = test['AgeGroup'].map(age_mapping)\n",
        "\n",
        "train.head()\n",
        "\n",
        "# dropping the Age feature for now, might change\n",
        "train = train.drop(['Age'], axis=1)\n",
        "test = test.drop(['Age'], axis=1)\n"
      ]
    },
    {
      "cell_type": "markdown",
      "metadata": {
        "id": "3YG-Wkya0UWo"
      },
      "source": [
        "Drop the name feature since it contains no more useful information."
      ]
    },
    {
      "cell_type": "code",
      "execution_count": 23,
      "metadata": {
        "id": "SkZffyGy0JYo"
      },
      "outputs": [],
      "source": [
        "train = train.drop(['Name'], axis=1)\n",
        "test = test.drop(['Name'], axis=1)\n"
      ]
    },
    {
      "cell_type": "markdown",
      "metadata": {
        "id": "4ucWnfcr0b4E"
      },
      "source": [
        "Assign numerical values to sex and embarks categories\\\n"
      ]
    },
    {
      "cell_type": "code",
      "execution_count": 25,
      "metadata": {
        "id": "h0vRGVsW0W1z"
      },
      "outputs": [],
      "source": [
        "sex_mapping = {\"male\": 0, \"female\": 1}\n",
        "train['Sex'] = train['Sex'].map(sex_mapping)\n",
        "test['Sex'] = test['Sex'].map(sex_mapping)\n",
        "\n",
        "embarked_mapping = {\"S\": 1, \"C\": 2, \"Q\": 3}\n",
        "train['Embarked'] = train['Embarked'].map(embarked_mapping)\n",
        "test['Embarked'] = test['Embarked'].map(embarked_mapping)\n"
      ]
    },
    {
      "cell_type": "markdown",
      "metadata": {
        "id": "ZcGxFa1D0jDl"
      },
      "source": [
        "Fill in the missing Fare value in the test set based on the mean fare for that P-class"
      ]
    },
    {
      "cell_type": "code",
      "execution_count": 26,
      "metadata": {
        "id": "jG9lvKou0aHs"
      },
      "outputs": [],
      "source": [
        "for x in range(len(test[\"Fare\"])):\n",
        "    if pd.isnull(test[\"Fare\"][x]):\n",
        "        pclass = test[\"Pclass\"][x]  # Pclass = 3\n",
        "        test[\"Fare\"][x] = round(\n",
        "            train[train[\"Pclass\"] == pclass][\"Fare\"].mean(), 4)\n",
        "\n",
        "# map Fare values into groups of\n",
        "# numerical values\n",
        "train['FareBand'] = pd.qcut(train['Fare'], 4,\n",
        "                            labels=[1, 2, 3, 4])\n",
        "test['FareBand'] = pd.qcut(test['Fare'], 4,\n",
        "                           labels=[1, 2, 3, 4])\n",
        "\n",
        "# drop Fare values\n",
        "train = train.drop(['Fare'], axis=1)\n",
        "test = test.drop(['Fare'], axis=1)\n"
      ]
    },
    {
      "cell_type": "markdown",
      "metadata": {
        "id": "mndNq55K0mtg"
      },
      "source": [
        "Now we are done with the feature engineering.\n",
        "\n",
        "4. Model Training: Building the Predictive Model\n",
        "In this phase, we employ Random Forest as our algorithm to train the model for predicting survival. Key steps include:\n",
        "\n",
        "Data Splitting: Dividing the dataset into 80% training and 20% testing subsets using train_test_split() from the sklearn library.\n",
        "Model Selection: Leveraging the Random Forest algorithm, known for its robustness and ability to handle diverse data.\n",
        "Performance Evaluation: Assessing the trained model’s accuracy on the test data to ensure it generalizes well."
      ]
    },
    {
      "cell_type": "code",
      "execution_count": 27,
      "metadata": {
        "id": "gi3XhPnb0l0I"
      },
      "outputs": [],
      "source": [
        "from sklearn.model_selection import train_test_split\n",
        "\n",
        "# Drop the Survived and PassengerId\n",
        "# column from the trainset\n",
        "predictors = train.drop(['Survived', 'PassengerId'], axis=1)\n",
        "target = train[\"Survived\"]\n",
        "x_train, x_val, y_train, y_val = train_test_split(\n",
        "    predictors, target, test_size=0.2, random_state=0)\n"
      ]
    },
    {
      "cell_type": "markdown",
      "metadata": {
        "id": "AJbD4gAe1yzS"
      },
      "source": [
        "Now import the random forest function from the ensemble module of sklearn and for the training set."
      ]
    },
    {
      "cell_type": "code",
      "execution_count": 28,
      "metadata": {
        "colab": {
          "base_uri": "https://localhost:8080/"
        },
        "id": "n8dGyus-1yBo",
        "outputId": "5ea12c9c-ef5a-449e-f2a2-2a2bd734e7e4"
      },
      "outputs": [
        {
          "name": "stdout",
          "output_type": "stream",
          "text": [
            "83.8\n"
          ]
        }
      ],
      "source": [
        "from sklearn.ensemble import RandomForestClassifier\n",
        "from sklearn.metrics import accuracy_score\n",
        "\n",
        "randomforest = RandomForestClassifier()\n",
        "\n",
        "# Fit the training data along with its output\n",
        "randomforest.fit(x_train, y_train)\n",
        "y_pred = randomforest.predict(x_val)\n",
        "\n",
        "# Find the accuracy score of the model\n",
        "acc_randomforest = round(accuracy_score(y_pred, y_val) * 100, 2)\n",
        "print(acc_randomforest)\n"
      ]
    },
    {
      "cell_type": "markdown",
      "metadata": {
        "id": "-nRURmEL14KY"
      },
      "source": [
        "With this, we got an accuracy of 83.8%\n",
        "\n",
        "Prediction: Generating Survival Predictions on Test Data\n",
        "In this final phase, we use the trained Random Forest model to make predictions on the test dataset. The key steps are:\n",
        "\n",
        "Running Predictions: Input the test dataset into the trained model to predict survival outcomes.\n",
        "Preparing Results: Store the PassengerId from the test data and the corresponding Survival predictions (0 or 1).\n",
        "Saving the Output: Export the predictions to a CSV file for submission, with two columns:\n",
        "PassengerId: ID of each passenger from the test dataset.\n",
        "Survival: Predicted survival status (0 = Did not survive, 1 = Survived)."
      ]
    },
    {
      "cell_type": "code",
      "execution_count": 29,
      "metadata": {
        "id": "vvaQ1UOs12q4"
      },
      "outputs": [],
      "source": [
        "ids = test['PassengerId']\n",
        "predictions = randomforest.predict(test.drop('PassengerId', axis=1))\n",
        "\n",
        "# set the output as a dataframe and convert\n",
        "# to csv file named resultfile.csv\n",
        "output = pd.DataFrame({'PassengerId': ids, 'Survived': predictions})\n",
        "output.to_csv('resultfile.csv', index=False)\n"
      ]
    },
    {
      "cell_type": "markdown",
      "metadata": {
        "id": "hub0WgQS1_vE"
      },
      "source": [
        "Conclusion\n",
        "In this project, we successfully built a Random Forest classifier to predict the survival chances of Titanic passengers. Through data preprocessing, feature engineering, imputation, and model training, we were able to create a robust model with 83.8% accuracy on the training set."
      ]
    },
    {
      "cell_type": "code",
      "execution_count": null,
      "metadata": {
        "id": "Qi29n6mQ19Qi"
      },
      "outputs": [],
      "source": []
    }
  ],
  "metadata": {
    "accelerator": "GPU",
    "colab": {
      "gpuType": "T4",
      "provenance": []
    },
    "kernelspec": {
      "display_name": "Python (tf_env)",
      "language": "python",
      "name": "tf_env"
    },
    "language_info": {
      "codemirror_mode": {
        "name": "ipython",
        "version": 3
      },
      "file_extension": ".py",
      "mimetype": "text/x-python",
      "name": "python",
      "nbconvert_exporter": "python",
      "pygments_lexer": "ipython3",
      "version": "3.9.20"
    }
  },
  "nbformat": 4,
  "nbformat_minor": 0
}
