{
 "cells": [
  {
   "cell_type": "code",
   "execution_count": 1,
   "metadata": {},
   "outputs": [
    {
     "name": "stdout",
     "output_type": "stream",
     "text": [
      "Requirement already satisfied: tensorflow in c:\\users\\user\\anaconda3\\envs\\tf_env\\lib\\site-packages (2.18.0)\n",
      "Requirement already satisfied: tensorflow-intel==2.18.0 in c:\\users\\user\\anaconda3\\envs\\tf_env\\lib\\site-packages (from tensorflow) (2.18.0)\n",
      "Requirement already satisfied: absl-py>=1.0.0 in c:\\users\\user\\anaconda3\\envs\\tf_env\\lib\\site-packages (from tensorflow-intel==2.18.0->tensorflow) (2.1.0)\n",
      "Requirement already satisfied: astunparse>=1.6.0 in c:\\users\\user\\anaconda3\\envs\\tf_env\\lib\\site-packages (from tensorflow-intel==2.18.0->tensorflow) (1.6.3)\n",
      "Requirement already satisfied: flatbuffers>=24.3.25 in c:\\users\\user\\anaconda3\\envs\\tf_env\\lib\\site-packages (from tensorflow-intel==2.18.0->tensorflow) (24.3.25)\n",
      "Requirement already satisfied: gast!=0.5.0,!=0.5.1,!=0.5.2,>=0.2.1 in c:\\users\\user\\anaconda3\\envs\\tf_env\\lib\\site-packages (from tensorflow-intel==2.18.0->tensorflow) (0.6.0)\n",
      "Requirement already satisfied: google-pasta>=0.1.1 in c:\\users\\user\\anaconda3\\envs\\tf_env\\lib\\site-packages (from tensorflow-intel==2.18.0->tensorflow) (0.2.0)\n",
      "Requirement already satisfied: libclang>=13.0.0 in c:\\users\\user\\anaconda3\\envs\\tf_env\\lib\\site-packages (from tensorflow-intel==2.18.0->tensorflow) (18.1.1)\n",
      "Requirement already satisfied: opt-einsum>=2.3.2 in c:\\users\\user\\anaconda3\\envs\\tf_env\\lib\\site-packages (from tensorflow-intel==2.18.0->tensorflow) (3.4.0)\n",
      "Requirement already satisfied: packaging in c:\\users\\user\\anaconda3\\envs\\tf_env\\lib\\site-packages (from tensorflow-intel==2.18.0->tensorflow) (24.1)\n",
      "Requirement already satisfied: protobuf!=4.21.0,!=4.21.1,!=4.21.2,!=4.21.3,!=4.21.4,!=4.21.5,<6.0.0dev,>=3.20.3 in c:\\users\\user\\anaconda3\\envs\\tf_env\\lib\\site-packages (from tensorflow-intel==2.18.0->tensorflow) (5.29.1)\n",
      "Requirement already satisfied: requests<3,>=2.21.0 in c:\\users\\user\\anaconda3\\envs\\tf_env\\lib\\site-packages (from tensorflow-intel==2.18.0->tensorflow) (2.32.3)\n",
      "Requirement already satisfied: setuptools in c:\\users\\user\\anaconda3\\envs\\tf_env\\lib\\site-packages (from tensorflow-intel==2.18.0->tensorflow) (75.1.0)\n",
      "Requirement already satisfied: six>=1.12.0 in c:\\users\\user\\anaconda3\\envs\\tf_env\\lib\\site-packages (from tensorflow-intel==2.18.0->tensorflow) (1.16.0)\n",
      "Requirement already satisfied: termcolor>=1.1.0 in c:\\users\\user\\anaconda3\\envs\\tf_env\\lib\\site-packages (from tensorflow-intel==2.18.0->tensorflow) (2.5.0)\n",
      "Requirement already satisfied: typing-extensions>=3.6.6 in c:\\users\\user\\anaconda3\\envs\\tf_env\\lib\\site-packages (from tensorflow-intel==2.18.0->tensorflow) (4.11.0)\n",
      "Requirement already satisfied: wrapt>=1.11.0 in c:\\users\\user\\anaconda3\\envs\\tf_env\\lib\\site-packages (from tensorflow-intel==2.18.0->tensorflow) (1.17.0)\n",
      "Requirement already satisfied: grpcio<2.0,>=1.24.3 in c:\\users\\user\\anaconda3\\envs\\tf_env\\lib\\site-packages (from tensorflow-intel==2.18.0->tensorflow) (1.68.1)\n",
      "Requirement already satisfied: tensorboard<2.19,>=2.18 in c:\\users\\user\\anaconda3\\envs\\tf_env\\lib\\site-packages (from tensorflow-intel==2.18.0->tensorflow) (2.18.0)\n",
      "Requirement already satisfied: keras>=3.5.0 in c:\\users\\user\\anaconda3\\envs\\tf_env\\lib\\site-packages (from tensorflow-intel==2.18.0->tensorflow) (3.7.0)\n",
      "Requirement already satisfied: numpy<2.1.0,>=1.26.0 in c:\\users\\user\\anaconda3\\envs\\tf_env\\lib\\site-packages (from tensorflow-intel==2.18.0->tensorflow) (2.0.1)\n",
      "Requirement already satisfied: h5py>=3.11.0 in c:\\users\\user\\anaconda3\\envs\\tf_env\\lib\\site-packages (from tensorflow-intel==2.18.0->tensorflow) (3.12.1)\n",
      "Requirement already satisfied: ml-dtypes<0.5.0,>=0.4.0 in c:\\users\\user\\anaconda3\\envs\\tf_env\\lib\\site-packages (from tensorflow-intel==2.18.0->tensorflow) (0.4.1)\n",
      "Requirement already satisfied: tensorflow-io-gcs-filesystem>=0.23.1 in c:\\users\\user\\anaconda3\\envs\\tf_env\\lib\\site-packages (from tensorflow-intel==2.18.0->tensorflow) (0.31.0)\n",
      "Requirement already satisfied: wheel<1.0,>=0.23.0 in c:\\users\\user\\anaconda3\\envs\\tf_env\\lib\\site-packages (from astunparse>=1.6.0->tensorflow-intel==2.18.0->tensorflow) (0.44.0)\n",
      "Requirement already satisfied: rich in c:\\users\\user\\anaconda3\\envs\\tf_env\\lib\\site-packages (from keras>=3.5.0->tensorflow-intel==2.18.0->tensorflow) (13.9.4)\n",
      "Requirement already satisfied: namex in c:\\users\\user\\anaconda3\\envs\\tf_env\\lib\\site-packages (from keras>=3.5.0->tensorflow-intel==2.18.0->tensorflow) (0.0.8)\n",
      "Requirement already satisfied: optree in c:\\users\\user\\anaconda3\\envs\\tf_env\\lib\\site-packages (from keras>=3.5.0->tensorflow-intel==2.18.0->tensorflow) (0.13.1)\n",
      "Requirement already satisfied: charset-normalizer<4,>=2 in c:\\users\\user\\anaconda3\\envs\\tf_env\\lib\\site-packages (from requests<3,>=2.21.0->tensorflow-intel==2.18.0->tensorflow) (3.4.0)\n",
      "Requirement already satisfied: idna<4,>=2.5 in c:\\users\\user\\anaconda3\\envs\\tf_env\\lib\\site-packages (from requests<3,>=2.21.0->tensorflow-intel==2.18.0->tensorflow) (3.10)\n",
      "Requirement already satisfied: urllib3<3,>=1.21.1 in c:\\users\\user\\anaconda3\\envs\\tf_env\\lib\\site-packages (from requests<3,>=2.21.0->tensorflow-intel==2.18.0->tensorflow) (2.2.3)\n",
      "Requirement already satisfied: certifi>=2017.4.17 in c:\\users\\user\\anaconda3\\envs\\tf_env\\lib\\site-packages (from requests<3,>=2.21.0->tensorflow-intel==2.18.0->tensorflow) (2024.8.30)\n",
      "Requirement already satisfied: markdown>=2.6.8 in c:\\users\\user\\anaconda3\\envs\\tf_env\\lib\\site-packages (from tensorboard<2.19,>=2.18->tensorflow-intel==2.18.0->tensorflow) (3.7)\n",
      "Requirement already satisfied: tensorboard-data-server<0.8.0,>=0.7.0 in c:\\users\\user\\anaconda3\\envs\\tf_env\\lib\\site-packages (from tensorboard<2.19,>=2.18->tensorflow-intel==2.18.0->tensorflow) (0.7.2)\n",
      "Requirement already satisfied: werkzeug>=1.0.1 in c:\\users\\user\\anaconda3\\envs\\tf_env\\lib\\site-packages (from tensorboard<2.19,>=2.18->tensorflow-intel==2.18.0->tensorflow) (3.1.3)\n",
      "Requirement already satisfied: importlib-metadata>=4.4 in c:\\users\\user\\anaconda3\\envs\\tf_env\\lib\\site-packages (from markdown>=2.6.8->tensorboard<2.19,>=2.18->tensorflow-intel==2.18.0->tensorflow) (8.5.0)\n",
      "Requirement already satisfied: MarkupSafe>=2.1.1 in c:\\users\\user\\anaconda3\\envs\\tf_env\\lib\\site-packages (from werkzeug>=1.0.1->tensorboard<2.19,>=2.18->tensorflow-intel==2.18.0->tensorflow) (3.0.2)\n",
      "Requirement already satisfied: markdown-it-py>=2.2.0 in c:\\users\\user\\anaconda3\\envs\\tf_env\\lib\\site-packages (from rich->keras>=3.5.0->tensorflow-intel==2.18.0->tensorflow) (3.0.0)\n",
      "Requirement already satisfied: pygments<3.0.0,>=2.13.0 in c:\\users\\user\\anaconda3\\envs\\tf_env\\lib\\site-packages (from rich->keras>=3.5.0->tensorflow-intel==2.18.0->tensorflow) (2.15.1)\n",
      "Requirement already satisfied: zipp>=3.20 in c:\\users\\user\\anaconda3\\envs\\tf_env\\lib\\site-packages (from importlib-metadata>=4.4->markdown>=2.6.8->tensorboard<2.19,>=2.18->tensorflow-intel==2.18.0->tensorflow) (3.21.0)\n",
      "Requirement already satisfied: mdurl~=0.1 in c:\\users\\user\\anaconda3\\envs\\tf_env\\lib\\site-packages (from markdown-it-py>=2.2.0->rich->keras>=3.5.0->tensorflow-intel==2.18.0->tensorflow) (0.1.2)\n"
     ]
    }
   ],
   "source": [
    "!pip install tensorflow"
   ]
  },
  {
   "cell_type": "code",
   "execution_count": 4,
   "metadata": {},
   "outputs": [
    {
     "name": "stdout",
     "output_type": "stream",
     "text": [
      "Collecting matplotlib\n",
      "  Downloading matplotlib-3.9.4-cp39-cp39-win_amd64.whl.metadata (11 kB)\n",
      "Collecting contourpy>=1.0.1 (from matplotlib)\n",
      "  Downloading contourpy-1.3.0-cp39-cp39-win_amd64.whl.metadata (5.4 kB)\n",
      "Collecting cycler>=0.10 (from matplotlib)\n",
      "  Downloading cycler-0.12.1-py3-none-any.whl.metadata (3.8 kB)\n",
      "Collecting fonttools>=4.22.0 (from matplotlib)\n",
      "  Downloading fonttools-4.56.0-cp39-cp39-win_amd64.whl.metadata (103 kB)\n",
      "Collecting kiwisolver>=1.3.1 (from matplotlib)\n",
      "  Downloading kiwisolver-1.4.7-cp39-cp39-win_amd64.whl.metadata (6.4 kB)\n",
      "Requirement already satisfied: numpy>=1.23 in c:\\users\\user\\anaconda3\\envs\\tf_env\\lib\\site-packages (from matplotlib) (2.0.1)\n",
      "Requirement already satisfied: packaging>=20.0 in c:\\users\\user\\anaconda3\\envs\\tf_env\\lib\\site-packages (from matplotlib) (24.1)\n",
      "Collecting pillow>=8 (from matplotlib)\n",
      "  Downloading pillow-11.1.0-cp39-cp39-win_amd64.whl.metadata (9.3 kB)\n",
      "Collecting pyparsing>=2.3.1 (from matplotlib)\n",
      "  Downloading pyparsing-3.2.1-py3-none-any.whl.metadata (5.0 kB)\n",
      "Requirement already satisfied: python-dateutil>=2.7 in c:\\users\\user\\anaconda3\\envs\\tf_env\\lib\\site-packages (from matplotlib) (2.9.0.post0)\n",
      "Collecting importlib-resources>=3.2.0 (from matplotlib)\n",
      "  Downloading importlib_resources-6.5.2-py3-none-any.whl.metadata (3.9 kB)\n",
      "Requirement already satisfied: zipp>=3.1.0 in c:\\users\\user\\anaconda3\\envs\\tf_env\\lib\\site-packages (from importlib-resources>=3.2.0->matplotlib) (3.21.0)\n",
      "Requirement already satisfied: six>=1.5 in c:\\users\\user\\anaconda3\\envs\\tf_env\\lib\\site-packages (from python-dateutil>=2.7->matplotlib) (1.16.0)\n",
      "Downloading matplotlib-3.9.4-cp39-cp39-win_amd64.whl (7.8 MB)\n",
      "   ---------------------------------------- 0.0/7.8 MB ? eta -:--:--\n",
      "   ---------------------------------------- 0.0/7.8 MB ? eta -:--:--\n",
      "   - -------------------------------------- 0.3/7.8 MB ? eta -:--:--\n",
      "   -- ------------------------------------- 0.5/7.8 MB 1.0 MB/s eta 0:00:07\n",
      "   ---- ----------------------------------- 0.8/7.8 MB 1.1 MB/s eta 0:00:07\n",
      "   ----- ---------------------------------- 1.0/7.8 MB 1.1 MB/s eta 0:00:07\n",
      "   ----- ---------------------------------- 1.0/7.8 MB 1.1 MB/s eta 0:00:07\n",
      "   -------- ------------------------------- 1.6/7.8 MB 1.1 MB/s eta 0:00:06\n",
      "   -------- ------------------------------- 1.6/7.8 MB 1.1 MB/s eta 0:00:06\n",
      "   --------- ------------------------------ 1.8/7.8 MB 1.1 MB/s eta 0:00:06\n",
      "   ---------- ----------------------------- 2.1/7.8 MB 1.1 MB/s eta 0:00:06\n",
      "   ------------ --------------------------- 2.4/7.8 MB 1.1 MB/s eta 0:00:05\n",
      "   ------------- -------------------------- 2.6/7.8 MB 1.1 MB/s eta 0:00:05\n",
      "   -------------- ------------------------- 2.9/7.8 MB 1.1 MB/s eta 0:00:05\n",
      "   ---------------- ----------------------- 3.1/7.8 MB 1.1 MB/s eta 0:00:05\n",
      "   ----------------- ---------------------- 3.4/7.8 MB 1.2 MB/s eta 0:00:04\n",
      "   ------------------ --------------------- 3.7/7.8 MB 1.2 MB/s eta 0:00:04\n",
      "   -------------------- ------------------- 3.9/7.8 MB 1.2 MB/s eta 0:00:04\n",
      "   --------------------- ------------------ 4.2/7.8 MB 1.2 MB/s eta 0:00:04\n",
      "   ---------------------- ----------------- 4.5/7.8 MB 1.2 MB/s eta 0:00:03\n",
      "   ------------------------ --------------- 4.7/7.8 MB 1.2 MB/s eta 0:00:03\n",
      "   ------------------------- -------------- 5.0/7.8 MB 1.2 MB/s eta 0:00:03\n",
      "   -------------------------- ------------- 5.2/7.8 MB 1.2 MB/s eta 0:00:03\n",
      "   ---------------------------- ----------- 5.5/7.8 MB 1.2 MB/s eta 0:00:02\n",
      "   ---------------------------- ----------- 5.5/7.8 MB 1.2 MB/s eta 0:00:02\n",
      "   ----------------------------- ---------- 5.8/7.8 MB 1.1 MB/s eta 0:00:02\n",
      "   ------------------------------ --------- 6.0/7.8 MB 1.1 MB/s eta 0:00:02\n",
      "   -------------------------------- ------- 6.3/7.8 MB 1.1 MB/s eta 0:00:02\n",
      "   --------------------------------- ------ 6.6/7.8 MB 1.2 MB/s eta 0:00:02\n",
      "   ---------------------------------- ----- 6.8/7.8 MB 1.1 MB/s eta 0:00:01\n",
      "   ---------------------------------- ----- 6.8/7.8 MB 1.1 MB/s eta 0:00:01\n",
      "   ------------------------------------- -- 7.3/7.8 MB 1.2 MB/s eta 0:00:01\n",
      "   -------------------------------------- - 7.6/7.8 MB 1.2 MB/s eta 0:00:01\n",
      "   ---------------------------------------- 7.8/7.8 MB 1.1 MB/s eta 0:00:00\n",
      "Downloading contourpy-1.3.0-cp39-cp39-win_amd64.whl (211 kB)\n",
      "Downloading cycler-0.12.1-py3-none-any.whl (8.3 kB)\n",
      "Downloading fonttools-4.56.0-cp39-cp39-win_amd64.whl (2.2 MB)\n",
      "   ---------------------------------------- 0.0/2.2 MB ? eta -:--:--\n",
      "   ---------------------------------------- 0.0/2.2 MB ? eta -:--:--\n",
      "   ---- ----------------------------------- 0.3/2.2 MB ? eta -:--:--\n",
      "   --------- ------------------------------ 0.5/2.2 MB 1.2 MB/s eta 0:00:02\n",
      "   -------------- ------------------------- 0.8/2.2 MB 1.2 MB/s eta 0:00:02\n",
      "   ------------------- -------------------- 1.0/2.2 MB 1.1 MB/s eta 0:00:02\n",
      "   ----------------------- ---------------- 1.3/2.2 MB 1.2 MB/s eta 0:00:01\n",
      "   ---------------------------- ----------- 1.6/2.2 MB 1.2 MB/s eta 0:00:01\n",
      "   --------------------------------- ------ 1.8/2.2 MB 1.2 MB/s eta 0:00:01\n",
      "   -------------------------------------- - 2.1/2.2 MB 1.2 MB/s eta 0:00:01\n",
      "   ---------------------------------------- 2.2/2.2 MB 1.2 MB/s eta 0:00:00\n",
      "Downloading importlib_resources-6.5.2-py3-none-any.whl (37 kB)\n",
      "Downloading kiwisolver-1.4.7-cp39-cp39-win_amd64.whl (55 kB)\n",
      "Downloading pillow-11.1.0-cp39-cp39-win_amd64.whl (2.6 MB)\n",
      "   ---------------------------------------- 0.0/2.6 MB ? eta -:--:--\n",
      "   ---------------------------------------- 0.0/2.6 MB ? eta -:--:--\n",
      "   --- ------------------------------------ 0.3/2.6 MB ? eta -:--:--\n",
      "   ------- -------------------------------- 0.5/2.6 MB 1.2 MB/s eta 0:00:02\n",
      "   ----------- ---------------------------- 0.8/2.6 MB 1.2 MB/s eta 0:00:02\n",
      "   --------------- ------------------------ 1.0/2.6 MB 1.2 MB/s eta 0:00:02\n",
      "   ------------------- -------------------- 1.3/2.6 MB 1.2 MB/s eta 0:00:02\n",
      "   ----------------------- ---------------- 1.6/2.6 MB 1.2 MB/s eta 0:00:01\n",
      "   --------------------------- ------------ 1.8/2.6 MB 1.2 MB/s eta 0:00:01\n",
      "   ------------------------------- -------- 2.1/2.6 MB 1.2 MB/s eta 0:00:01\n",
      "   ----------------------------------- ---- 2.4/2.6 MB 1.2 MB/s eta 0:00:01\n",
      "   ---------------------------------------- 2.6/2.6 MB 1.2 MB/s eta 0:00:00\n",
      "Downloading pyparsing-3.2.1-py3-none-any.whl (107 kB)\n",
      "Installing collected packages: pyparsing, pillow, kiwisolver, importlib-resources, fonttools, cycler, contourpy, matplotlib\n",
      "Successfully installed contourpy-1.3.0 cycler-0.12.1 fonttools-4.56.0 importlib-resources-6.5.2 kiwisolver-1.4.7 matplotlib-3.9.4 pillow-11.1.0 pyparsing-3.2.1\n"
     ]
    },
    {
     "name": "stderr",
     "output_type": "stream",
     "text": [
      "ERROR: pip's dependency resolver does not currently take into account all the packages that are installed. This behaviour is the source of the following dependency conflicts.\n",
      "seaborn 0.13.2 requires pandas>=1.2, which is not installed.\n"
     ]
    }
   ],
   "source": [
    "!pip install matplotlib"
   ]
  },
  {
   "cell_type": "code",
   "execution_count": 5,
   "metadata": {},
   "outputs": [],
   "source": [
    "import tensorflow as tf\n",
    "from tensorflow import keras\n",
    "import matplotlib.pyplot as plt\n",
    "%matplotlib inline\n",
    "import numpy as np"
   ]
  },
  {
   "cell_type": "code",
   "execution_count": 7,
   "metadata": {},
   "outputs": [
    {
     "name": "stdout",
     "output_type": "stream",
     "text": [
      "Downloading data from https://storage.googleapis.com/tensorflow/tf-keras-datasets/mnist.npz\n",
      "\u001b[1m11490434/11490434\u001b[0m \u001b[32m━━━━━━━━━━━━━━━━━━━━\u001b[0m\u001b[37m\u001b[0m \u001b[1m11s\u001b[0m 1us/step\n"
     ]
    }
   ],
   "source": [
    "(x_train, y_train), (x_test, y_test) = keras.datasets.mnist.load_data()"
   ]
  },
  {
   "cell_type": "code",
   "execution_count": 8,
   "metadata": {},
   "outputs": [
    {
     "data": {
      "text/plain": [
       "60000"
      ]
     },
     "execution_count": 8,
     "metadata": {},
     "output_type": "execute_result"
    }
   ],
   "source": [
    "len(x_train)"
   ]
  },
  {
   "cell_type": "code",
   "execution_count": 9,
   "metadata": {},
   "outputs": [
    {
     "data": {
      "text/plain": [
       "10000"
      ]
     },
     "execution_count": 9,
     "metadata": {},
     "output_type": "execute_result"
    }
   ],
   "source": [
    "len(x_test)"
   ]
  },
  {
   "cell_type": "code",
   "execution_count": 10,
   "metadata": {},
   "outputs": [
    {
     "data": {
      "text/plain": [
       "(28, 28)"
      ]
     },
     "execution_count": 10,
     "metadata": {},
     "output_type": "execute_result"
    }
   ],
   "source": [
    "x_train[0].shape"
   ]
  },
  {
   "cell_type": "code",
   "execution_count": 11,
   "metadata": {},
   "outputs": [
    {
     "data": {
      "text/plain": [
       "array([[  0,   0,   0,   0,   0,   0,   0,   0,   0,   0,   0,   0,   0,\n",
       "          0,   0,   0,   0,   0,   0,   0,   0,   0,   0,   0,   0,   0,\n",
       "          0,   0],\n",
       "       [  0,   0,   0,   0,   0,   0,   0,   0,   0,   0,   0,   0,   0,\n",
       "          0,   0,   0,   0,   0,   0,   0,   0,   0,   0,   0,   0,   0,\n",
       "          0,   0],\n",
       "       [  0,   0,   0,   0,   0,   0,   0,   0,   0,   0,   0,   0,   0,\n",
       "          0,   0,   0,   0,   0,   0,   0,   0,   0,   0,   0,   0,   0,\n",
       "          0,   0],\n",
       "       [  0,   0,   0,   0,   0,   0,   0,   0,   0,   0,   0,   0,   0,\n",
       "          0,   0,   0,   0,   0,   0,   0,   0,   0,   0,   0,   0,   0,\n",
       "          0,   0],\n",
       "       [  0,   0,   0,   0,   0,   0,   0,   0,   0,   0,   0,   0,   0,\n",
       "          0,   0,   0,   0,   0,   0,   0,   0,   0,   0,   0,   0,   0,\n",
       "          0,   0],\n",
       "       [  0,   0,   0,   0,   0,   0,   0,   0,   0,   0,   0,   0,   3,\n",
       "         18,  18,  18, 126, 136, 175,  26, 166, 255, 247, 127,   0,   0,\n",
       "          0,   0],\n",
       "       [  0,   0,   0,   0,   0,   0,   0,   0,  30,  36,  94, 154, 170,\n",
       "        253, 253, 253, 253, 253, 225, 172, 253, 242, 195,  64,   0,   0,\n",
       "          0,   0],\n",
       "       [  0,   0,   0,   0,   0,   0,   0,  49, 238, 253, 253, 253, 253,\n",
       "        253, 253, 253, 253, 251,  93,  82,  82,  56,  39,   0,   0,   0,\n",
       "          0,   0],\n",
       "       [  0,   0,   0,   0,   0,   0,   0,  18, 219, 253, 253, 253, 253,\n",
       "        253, 198, 182, 247, 241,   0,   0,   0,   0,   0,   0,   0,   0,\n",
       "          0,   0],\n",
       "       [  0,   0,   0,   0,   0,   0,   0,   0,  80, 156, 107, 253, 253,\n",
       "        205,  11,   0,  43, 154,   0,   0,   0,   0,   0,   0,   0,   0,\n",
       "          0,   0],\n",
       "       [  0,   0,   0,   0,   0,   0,   0,   0,   0,  14,   1, 154, 253,\n",
       "         90,   0,   0,   0,   0,   0,   0,   0,   0,   0,   0,   0,   0,\n",
       "          0,   0],\n",
       "       [  0,   0,   0,   0,   0,   0,   0,   0,   0,   0,   0, 139, 253,\n",
       "        190,   2,   0,   0,   0,   0,   0,   0,   0,   0,   0,   0,   0,\n",
       "          0,   0],\n",
       "       [  0,   0,   0,   0,   0,   0,   0,   0,   0,   0,   0,  11, 190,\n",
       "        253,  70,   0,   0,   0,   0,   0,   0,   0,   0,   0,   0,   0,\n",
       "          0,   0],\n",
       "       [  0,   0,   0,   0,   0,   0,   0,   0,   0,   0,   0,   0,  35,\n",
       "        241, 225, 160, 108,   1,   0,   0,   0,   0,   0,   0,   0,   0,\n",
       "          0,   0],\n",
       "       [  0,   0,   0,   0,   0,   0,   0,   0,   0,   0,   0,   0,   0,\n",
       "         81, 240, 253, 253, 119,  25,   0,   0,   0,   0,   0,   0,   0,\n",
       "          0,   0],\n",
       "       [  0,   0,   0,   0,   0,   0,   0,   0,   0,   0,   0,   0,   0,\n",
       "          0,  45, 186, 253, 253, 150,  27,   0,   0,   0,   0,   0,   0,\n",
       "          0,   0],\n",
       "       [  0,   0,   0,   0,   0,   0,   0,   0,   0,   0,   0,   0,   0,\n",
       "          0,   0,  16,  93, 252, 253, 187,   0,   0,   0,   0,   0,   0,\n",
       "          0,   0],\n",
       "       [  0,   0,   0,   0,   0,   0,   0,   0,   0,   0,   0,   0,   0,\n",
       "          0,   0,   0,   0, 249, 253, 249,  64,   0,   0,   0,   0,   0,\n",
       "          0,   0],\n",
       "       [  0,   0,   0,   0,   0,   0,   0,   0,   0,   0,   0,   0,   0,\n",
       "          0,  46, 130, 183, 253, 253, 207,   2,   0,   0,   0,   0,   0,\n",
       "          0,   0],\n",
       "       [  0,   0,   0,   0,   0,   0,   0,   0,   0,   0,   0,   0,  39,\n",
       "        148, 229, 253, 253, 253, 250, 182,   0,   0,   0,   0,   0,   0,\n",
       "          0,   0],\n",
       "       [  0,   0,   0,   0,   0,   0,   0,   0,   0,   0,  24, 114, 221,\n",
       "        253, 253, 253, 253, 201,  78,   0,   0,   0,   0,   0,   0,   0,\n",
       "          0,   0],\n",
       "       [  0,   0,   0,   0,   0,   0,   0,   0,  23,  66, 213, 253, 253,\n",
       "        253, 253, 198,  81,   2,   0,   0,   0,   0,   0,   0,   0,   0,\n",
       "          0,   0],\n",
       "       [  0,   0,   0,   0,   0,   0,  18, 171, 219, 253, 253, 253, 253,\n",
       "        195,  80,   9,   0,   0,   0,   0,   0,   0,   0,   0,   0,   0,\n",
       "          0,   0],\n",
       "       [  0,   0,   0,   0,  55, 172, 226, 253, 253, 253, 253, 244, 133,\n",
       "         11,   0,   0,   0,   0,   0,   0,   0,   0,   0,   0,   0,   0,\n",
       "          0,   0],\n",
       "       [  0,   0,   0,   0, 136, 253, 253, 253, 212, 135, 132,  16,   0,\n",
       "          0,   0,   0,   0,   0,   0,   0,   0,   0,   0,   0,   0,   0,\n",
       "          0,   0],\n",
       "       [  0,   0,   0,   0,   0,   0,   0,   0,   0,   0,   0,   0,   0,\n",
       "          0,   0,   0,   0,   0,   0,   0,   0,   0,   0,   0,   0,   0,\n",
       "          0,   0],\n",
       "       [  0,   0,   0,   0,   0,   0,   0,   0,   0,   0,   0,   0,   0,\n",
       "          0,   0,   0,   0,   0,   0,   0,   0,   0,   0,   0,   0,   0,\n",
       "          0,   0],\n",
       "       [  0,   0,   0,   0,   0,   0,   0,   0,   0,   0,   0,   0,   0,\n",
       "          0,   0,   0,   0,   0,   0,   0,   0,   0,   0,   0,   0,   0,\n",
       "          0,   0]], dtype=uint8)"
      ]
     },
     "execution_count": 11,
     "metadata": {},
     "output_type": "execute_result"
    }
   ],
   "source": [
    "x_train[0]"
   ]
  },
  {
   "cell_type": "code",
   "execution_count": 20,
   "metadata": {},
   "outputs": [
    {
     "data": {
      "text/plain": [
       "<matplotlib.image.AxesImage at 0x1e647e360d0>"
      ]
     },
     "execution_count": 20,
     "metadata": {},
     "output_type": "execute_result"
    },
    {
     "data": {
      "image/png": "[encoded data removed]",
      "text/plain": [
       "<Figure size 480x480 with 1 Axes>"
      ]
     },
     "metadata": {},
     "output_type": "display_data"
    }
   ],
   "source": [
    "plt.matshow(x_test[1])"
   ]
  },
  {
   "cell_type": "code",
   "execution_count": 23,
   "metadata": {},
   "outputs": [
    {
     "data": {
      "text/plain": [
       "np.uint8(2)"
      ]
     },
     "execution_count": 23,
     "metadata": {},
     "output_type": "execute_result"
    }
   ],
   "source": [
    "y_test[1]"
   ]
  },
  {
   "cell_type": "code",
   "execution_count": 24,
   "metadata": {},
   "outputs": [
    {
     "data": {
      "text/plain": [
       "(60000, 28, 28)"
      ]
     },
     "execution_count": 24,
     "metadata": {},
     "output_type": "execute_result"
    }
   ],
   "source": [
    "x_train.shape"
   ]
  },
  {
   "cell_type": "code",
   "execution_count": 46,
   "metadata": {},
   "outputs": [],
   "source": [
    "x_train_flattened = np.array(x_train.reshape(len(x_train), 28*28) / 255.0)\n",
    "x_test_flattened = np.array(x_test.reshape(len(x_test), 28*28) / 255.0)"
   ]
  },
  {
   "cell_type": "code",
   "execution_count": 47,
   "metadata": {},
   "outputs": [
    {
     "data": {
      "text/plain": [
       "(60000, 784)"
      ]
     },
     "execution_count": 47,
     "metadata": {},
     "output_type": "execute_result"
    }
   ],
   "source": [
    "x_train_flattened.shape"
   ]
  },
  {
   "cell_type": "code",
   "execution_count": 48,
   "metadata": {},
   "outputs": [
    {
     "data": {
      "text/plain": [
       "array([0.        , 0.        , 0.        , 0.        , 0.        ,\n",
       "       0.        , 0.        , 0.        , 0.        , 0.        ,\n",
       "       0.        , 0.        , 0.        , 0.        , 0.        ,\n",
       "       0.        , 0.        , 0.        , 0.        , 0.        ,\n",
       "       0.        , 0.        , 0.        , 0.        , 0.        ,\n",
       "       0.        , 0.        , 0.        , 0.        , 0.        ,\n",
       "       0.        , 0.        , 0.        , 0.        , 0.        ,\n",
       "       0.        , 0.        , 0.        , 0.        , 0.        ,\n",
       "       0.        , 0.        , 0.        , 0.        , 0.        ,\n",
       "       0.        , 0.        , 0.        , 0.        , 0.        ,\n",
       "       0.        , 0.        , 0.        , 0.        , 0.        ,\n",
       "       0.        , 0.        , 0.        , 0.        , 0.        ,\n",
       "       0.        , 0.        , 0.        , 0.        , 0.        ,\n",
       "       0.        , 0.        , 0.        , 0.        , 0.        ,\n",
       "       0.        , 0.        , 0.        , 0.        , 0.        ,\n",
       "       0.        , 0.        , 0.        , 0.        , 0.        ,\n",
       "       0.        , 0.        , 0.        , 0.        , 0.        ,\n",
       "       0.        , 0.        , 0.        , 0.        , 0.        ,\n",
       "       0.        , 0.        , 0.        , 0.        , 0.45490196,\n",
       "       0.49019608, 0.67058824, 1.        , 1.        , 0.58823529,\n",
       "       0.36470588, 0.        , 0.        , 0.        , 0.        ,\n",
       "       0.        , 0.        , 0.        , 0.        , 0.        ,\n",
       "       0.        , 0.        , 0.        , 0.        , 0.        ,\n",
       "       0.        , 0.        , 0.        , 0.        , 0.        ,\n",
       "       0.        , 0.6627451 , 0.99215686, 0.99215686, 0.99215686,\n",
       "       0.99215686, 0.99215686, 0.99215686, 0.85490196, 0.11764706,\n",
       "       0.        , 0.        , 0.        , 0.        , 0.        ,\n",
       "       0.        , 0.        , 0.        , 0.        , 0.        ,\n",
       "       0.        , 0.        , 0.        , 0.        , 0.        ,\n",
       "       0.        , 0.        , 0.        , 0.6627451 , 0.99215686,\n",
       "       0.99215686, 0.99215686, 0.83529412, 0.55686275, 0.69019608,\n",
       "       0.99215686, 0.99215686, 0.47843137, 0.        , 0.        ,\n",
       "       0.        , 0.        , 0.        , 0.        , 0.        ,\n",
       "       0.        , 0.        , 0.        , 0.        , 0.        ,\n",
       "       0.        , 0.        , 0.        , 0.        , 0.        ,\n",
       "       0.20392157, 0.98039216, 0.99215686, 0.82352941, 0.1254902 ,\n",
       "       0.04705882, 0.        , 0.02352941, 0.80784314, 0.99215686,\n",
       "       0.54901961, 0.        , 0.        , 0.        , 0.        ,\n",
       "       0.        , 0.        , 0.        , 0.        , 0.        ,\n",
       "       0.        , 0.        , 0.        , 0.        , 0.        ,\n",
       "       0.        , 0.        , 0.        , 0.30196078, 0.98431373,\n",
       "       0.82352941, 0.09803922, 0.        , 0.        , 0.        ,\n",
       "       0.47843137, 0.97254902, 0.99215686, 0.25490196, 0.        ,\n",
       "       0.        , 0.        , 0.        , 0.        , 0.        ,\n",
       "       0.        , 0.        , 0.        , 0.        , 0.        ,\n",
       "       0.        , 0.        , 0.        , 0.        , 0.        ,\n",
       "       0.        , 0.        , 0.12156863, 0.07058824, 0.        ,\n",
       "       0.        , 0.        , 0.        , 0.81960784, 0.99215686,\n",
       "       0.99215686, 0.25490196, 0.        , 0.        , 0.        ,\n",
       "       0.        , 0.        , 0.        , 0.        , 0.        ,\n",
       "       0.        , 0.        , 0.        , 0.        , 0.        ,\n",
       "       0.        , 0.        , 0.        , 0.        , 0.        ,\n",
       "       0.        , 0.        , 0.        , 0.        , 0.        ,\n",
       "       0.45882353, 0.96862745, 0.99215686, 0.77647059, 0.03921569,\n",
       "       0.        , 0.        , 0.        , 0.        , 0.        ,\n",
       "       0.        , 0.        , 0.        , 0.        , 0.        ,\n",
       "       0.        , 0.        , 0.        , 0.        , 0.        ,\n",
       "       0.        , 0.        , 0.        , 0.        , 0.        ,\n",
       "       0.        , 0.        , 0.29803922, 0.96862745, 0.99215686,\n",
       "       0.90588235, 0.24705882, 0.        , 0.        , 0.        ,\n",
       "       0.        , 0.        , 0.        , 0.        , 0.        ,\n",
       "       0.        , 0.        , 0.        , 0.        , 0.        ,\n",
       "       0.        , 0.        , 0.        , 0.        , 0.        ,\n",
       "       0.        , 0.        , 0.        , 0.        , 0.        ,\n",
       "       0.50196078, 0.99215686, 0.99215686, 0.56470588, 0.        ,\n",
       "       0.        , 0.        , 0.        , 0.        , 0.        ,\n",
       "       0.        , 0.        , 0.        , 0.        , 0.        ,\n",
       "       0.        , 0.        , 0.        , 0.        , 0.        ,\n",
       "       0.        , 0.        , 0.        , 0.        , 0.        ,\n",
       "       0.        , 0.        , 0.69019608, 0.96470588, 0.99215686,\n",
       "       0.62352941, 0.04705882, 0.        , 0.        , 0.        ,\n",
       "       0.        , 0.        , 0.        , 0.        , 0.        ,\n",
       "       0.        , 0.        , 0.        , 0.        , 0.        ,\n",
       "       0.        , 0.        , 0.        , 0.        , 0.        ,\n",
       "       0.        , 0.        , 0.        , 0.        , 0.09803922,\n",
       "       0.91764706, 0.99215686, 0.91372549, 0.1372549 , 0.        ,\n",
       "       0.        , 0.        , 0.        , 0.        , 0.        ,\n",
       "       0.        , 0.        , 0.        , 0.        , 0.        ,\n",
       "       0.        , 0.        , 0.        , 0.        , 0.        ,\n",
       "       0.        , 0.        , 0.        , 0.        , 0.        ,\n",
       "       0.        , 0.        , 0.77647059, 0.99215686, 0.99215686,\n",
       "       0.55294118, 0.        , 0.        , 0.        , 0.        ,\n",
       "       0.        , 0.        , 0.        , 0.        , 0.        ,\n",
       "       0.        , 0.        , 0.        , 0.        , 0.        ,\n",
       "       0.        , 0.        , 0.        , 0.        , 0.        ,\n",
       "       0.        , 0.        , 0.        , 0.        , 0.30588235,\n",
       "       0.97254902, 0.99215686, 0.74117647, 0.04705882, 0.        ,\n",
       "       0.        , 0.        , 0.        , 0.        , 0.        ,\n",
       "       0.        , 0.        , 0.        , 0.        , 0.        ,\n",
       "       0.        , 0.        , 0.        , 0.        , 0.        ,\n",
       "       0.        , 0.        , 0.        , 0.        , 0.        ,\n",
       "       0.        , 0.0745098 , 0.78431373, 0.99215686, 0.99215686,\n",
       "       0.55294118, 0.        , 0.        , 0.        , 0.        ,\n",
       "       0.        , 0.        , 0.        , 0.        , 0.        ,\n",
       "       0.        , 0.        , 0.        , 0.        , 0.        ,\n",
       "       0.        , 0.        , 0.        , 0.        , 0.        ,\n",
       "       0.        , 0.        , 0.        , 0.        , 0.5254902 ,\n",
       "       0.99215686, 0.99215686, 0.67843137, 0.04705882, 0.        ,\n",
       "       0.        , 0.        , 0.        , 0.        , 0.        ,\n",
       "       0.        , 0.        , 0.        , 0.        , 0.        ,\n",
       "       0.        , 0.        , 0.        , 0.        , 0.        ,\n",
       "       0.        , 0.        , 0.        , 0.        , 0.        ,\n",
       "       0.        , 0.        , 0.97254902, 0.99215686, 0.99215686,\n",
       "       0.09803922, 0.        , 0.        , 0.        , 0.        ,\n",
       "       0.        , 0.        , 0.        , 0.        , 0.        ,\n",
       "       0.        , 0.        , 0.        , 0.        , 0.        ,\n",
       "       0.        , 0.        , 0.        , 0.        , 0.        ,\n",
       "       0.        , 0.        , 0.        , 0.        , 0.        ,\n",
       "       0.97254902, 0.99215686, 0.99215686, 0.16862745, 0.07843137,\n",
       "       0.07843137, 0.07843137, 0.07843137, 0.01960784, 0.        ,\n",
       "       0.01960784, 0.07843137, 0.07843137, 0.14509804, 0.58823529,\n",
       "       0.58823529, 0.58823529, 0.57647059, 0.03921569, 0.        ,\n",
       "       0.        , 0.        , 0.        , 0.        , 0.        ,\n",
       "       0.        , 0.        , 0.        , 0.97254902, 0.99215686,\n",
       "       0.99215686, 0.99215686, 0.99215686, 0.99215686, 0.99215686,\n",
       "       0.99215686, 0.65882353, 0.56078431, 0.65098039, 0.99215686,\n",
       "       0.99215686, 0.99215686, 0.99215686, 0.99215686, 0.99215686,\n",
       "       0.99215686, 0.48235294, 0.        , 0.        , 0.        ,\n",
       "       0.        , 0.        , 0.        , 0.        , 0.        ,\n",
       "       0.        , 0.68235294, 0.99215686, 0.99215686, 0.99215686,\n",
       "       0.99215686, 0.99215686, 0.99215686, 0.99215686, 0.99215686,\n",
       "       0.99215686, 0.99215686, 0.99215686, 0.97647059, 0.96862745,\n",
       "       0.96862745, 0.6627451 , 0.45882353, 0.45882353, 0.22352941,\n",
       "       0.        , 0.        , 0.        , 0.        , 0.        ,\n",
       "       0.        , 0.        , 0.        , 0.        , 0.        ,\n",
       "       0.4627451 , 0.48235294, 0.48235294, 0.48235294, 0.65098039,\n",
       "       0.99215686, 0.99215686, 0.99215686, 0.60784314, 0.48235294,\n",
       "       0.48235294, 0.16078431, 0.        , 0.        , 0.        ,\n",
       "       0.        , 0.        , 0.        , 0.        , 0.        ,\n",
       "       0.        , 0.        , 0.        , 0.        , 0.        ,\n",
       "       0.        , 0.        , 0.        , 0.        , 0.        ,\n",
       "       0.        , 0.        , 0.        , 0.        , 0.        ,\n",
       "       0.        , 0.        , 0.        , 0.        , 0.        ,\n",
       "       0.        , 0.        , 0.        , 0.        , 0.        ,\n",
       "       0.        , 0.        , 0.        , 0.        , 0.        ,\n",
       "       0.        , 0.        , 0.        , 0.        , 0.        ,\n",
       "       0.        , 0.        , 0.        , 0.        , 0.        ,\n",
       "       0.        , 0.        , 0.        , 0.        , 0.        ,\n",
       "       0.        , 0.        , 0.        , 0.        , 0.        ,\n",
       "       0.        , 0.        , 0.        , 0.        , 0.        ,\n",
       "       0.        , 0.        , 0.        , 0.        , 0.        ,\n",
       "       0.        , 0.        , 0.        , 0.        , 0.        ,\n",
       "       0.        , 0.        , 0.        , 0.        , 0.        ,\n",
       "       0.        , 0.        , 0.        , 0.        , 0.        ,\n",
       "       0.        , 0.        , 0.        , 0.        , 0.        ,\n",
       "       0.        , 0.        , 0.        , 0.        , 0.        ,\n",
       "       0.        , 0.        , 0.        , 0.        , 0.        ,\n",
       "       0.        , 0.        , 0.        , 0.        , 0.        ,\n",
       "       0.        , 0.        , 0.        , 0.        , 0.        ,\n",
       "       0.        , 0.        , 0.        , 0.        , 0.        ,\n",
       "       0.        , 0.        , 0.        , 0.        , 0.        ,\n",
       "       0.        , 0.        , 0.        , 0.        , 0.        ,\n",
       "       0.        , 0.        , 0.        , 0.        , 0.        ,\n",
       "       0.        , 0.        , 0.        , 0.        , 0.        ,\n",
       "       0.        , 0.        , 0.        , 0.        , 0.        ,\n",
       "       0.        , 0.        , 0.        , 0.        , 0.        ,\n",
       "       0.        , 0.        , 0.        , 0.        ])"
      ]
     },
     "execution_count": 48,
     "metadata": {},
     "output_type": "execute_result"
    }
   ],
   "source": [
    "x_test_flattened[1]"
   ]
  },
  {
   "cell_type": "code",
   "execution_count": 49,
   "metadata": {},
   "outputs": [],
   "source": [
    "model = keras.Sequential([\n",
    "    keras.layers.Dense(10, input_shape = (784,),activation=\"sigmoid\")\n",
    "])"
   ]
  },
  {
   "cell_type": "code",
   "execution_count": 50,
   "metadata": {},
   "outputs": [],
   "source": [
    "model.compile(\n",
    "    optimizer='adam',\n",
    "    loss='sparse_categorical_crossentropy',\n",
    "    metrics=['accuracy']\n",
    "    )"
   ]
  },
  {
   "cell_type": "code",
   "execution_count": 51,
   "metadata": {},
   "outputs": [
    {
     "name": "stdout",
     "output_type": "stream",
     "text": [
      "Epoch 1/5\n",
      "\u001b[1m1875/1875\u001b[0m \u001b[32m━━━━━━━━━━━━━━━━━━━━\u001b[0m\u001b[37m\u001b[0m \u001b[1m5s\u001b[0m 2ms/step - accuracy: 0.8141 - loss: 0.7165\n",
      "Epoch 2/5\n",
      "\u001b[1m1875/1875\u001b[0m \u001b[32m━━━━━━━━━━━━━━━━━━━━\u001b[0m\u001b[37m\u001b[0m \u001b[1m3s\u001b[0m 2ms/step - accuracy: 0.9124 - loss: 0.3113\n",
      "Epoch 3/5\n",
      "\u001b[1m1875/1875\u001b[0m \u001b[32m━━━━━━━━━━━━━━━━━━━━\u001b[0m\u001b[37m\u001b[0m \u001b[1m3s\u001b[0m 2ms/step - accuracy: 0.9203 - loss: 0.2856\n",
      "Epoch 4/5\n",
      "\u001b[1m1875/1875\u001b[0m \u001b[32m━━━━━━━━━━━━━━━━━━━━\u001b[0m\u001b[37m\u001b[0m \u001b[1m3s\u001b[0m 2ms/step - accuracy: 0.9212 - loss: 0.2770\n",
      "Epoch 5/5\n",
      "\u001b[1m1875/1875\u001b[0m \u001b[32m━━━━━━━━━━━━━━━━━━━━\u001b[0m\u001b[37m\u001b[0m \u001b[1m4s\u001b[0m 2ms/step - accuracy: 0.9268 - loss: 0.2618\n"
     ]
    },
    {
     "data": {
      "text/plain": [
       "<keras.src.callbacks.history.History at 0x1e6439f16a0>"
      ]
     },
     "execution_count": 51,
     "metadata": {},
     "output_type": "execute_result"
    }
   ],
   "source": [
    "model.fit(x_train_flattened, y_train, epochs=5)"
   ]
  },
  {
   "cell_type": "code",
   "execution_count": 52,
   "metadata": {},
   "outputs": [
    {
     "name": "stdout",
     "output_type": "stream",
     "text": [
      "\u001b[1m313/313\u001b[0m \u001b[32m━━━━━━━━━━━━━━━━━━━━\u001b[0m\u001b[37m\u001b[0m \u001b[1m1s\u001b[0m 2ms/step - accuracy: 0.9149 - loss: 0.3053\n"
     ]
    },
    {
     "data": {
      "text/plain": [
       "[0.26833367347717285, 0.9259999990463257]"
      ]
     },
     "execution_count": 52,
     "metadata": {},
     "output_type": "execute_result"
    }
   ],
   "source": [
    "model.evaluate(x_test_flattened, y_test)"
   ]
  },
  {
   "cell_type": "code",
   "execution_count": 54,
   "metadata": {},
   "outputs": [
    {
     "name": "stdout",
     "output_type": "stream",
     "text": [
      "\u001b[1m313/313\u001b[0m \u001b[32m━━━━━━━━━━━━━━━━━━━━\u001b[0m\u001b[37m\u001b[0m \u001b[1m0s\u001b[0m 1ms/step\n"
     ]
    },
    {
     "data": {
      "text/plain": [
       "array([2.5168279e-02, 2.5069775e-07, 4.9748905e-02, 9.6830559e-01,\n",
       "       2.9239727e-03, 1.0769599e-01, 1.3217592e-06, 9.9971974e-01,\n",
       "       8.7568827e-02, 6.3470554e-01], dtype=float32)"
      ]
     },
     "execution_count": 54,
     "metadata": {},
     "output_type": "execute_result"
    }
   ],
   "source": [
    "y_predicted = model.predict(x_test_flattened)\n",
    "y_predicted[0]"
   ]
  },
  {
   "cell_type": "code",
   "execution_count": 57,
   "metadata": {},
   "outputs": [
    {
     "data": {
      "text/plain": [
       "np.int64(7)"
      ]
     },
     "execution_count": 57,
     "metadata": {},
     "output_type": "execute_result"
    }
   ],
   "source": [
    "np.argmax(y_predicted[0])"
   ]
  },
  {
   "cell_type": "code",
   "execution_count": 58,
   "metadata": {},
   "outputs": [
    {
     "data": {
      "text/plain": [
       "[np.int64(7), np.int64(2), np.int64(1), np.int64(0), np.int64(4)]"
      ]
     },
     "execution_count": 58,
     "metadata": {},
     "output_type": "execute_result"
    }
   ],
   "source": [
    "y_predicted_labels = [np.argmax(i) for i in y_predicted]\n",
    "y_predicted_labels[:5]"
   ]
  },
  {
   "cell_type": "code",
   "execution_count": 59,
   "metadata": {},
   "outputs": [
    {
     "data": {
      "text/plain": [
       "<tf.Tensor: shape=(10, 10), dtype=int32, numpy=\n",
       "array([[ 962,    0,    1,    2,    0,    5,    7,    2,    1,    0],\n",
       "       [   0, 1114,    2,    2,    0,    1,    4,    2,   10,    0],\n",
       "       [   3,    9,  920,   24,    9,    3,   13,   10,   37,    4],\n",
       "       [   2,    0,   12,  944,    1,   16,    3,    9,   15,    8],\n",
       "       [   1,    1,    3,    2,  929,    0,   11,    3,    9,   23],\n",
       "       [   8,    2,    4,   46,   12,  770,   14,    4,   27,    5],\n",
       "       [  10,    3,    8,    1,    8,   12,  912,    2,    2,    0],\n",
       "       [   1,    5,   23,    9,   10,    0,    0,  942,    3,   35],\n",
       "       [   5,    8,    6,   34,    9,   27,    9,   11,  859,    6],\n",
       "       [   9,    7,    2,   15,   37,    5,    0,   20,    6,  908]],\n",
       "      dtype=int32)>"
      ]
     },
     "execution_count": 59,
     "metadata": {},
     "output_type": "execute_result"
    }
   ],
   "source": [
    "cm = tf.math.confusion_matrix(labels=y_test, predictions=y_predicted_labels)\n",
    "cm"
   ]
  },
  {
   "cell_type": "code",
   "execution_count": 64,
   "metadata": {},
   "outputs": [
    {
     "name": "stdout",
     "output_type": "stream",
     "text": [
      "Collecting pandas\n",
      "  Using cached pandas-2.2.3-cp39-cp39-win_amd64.whl.metadata (19 kB)\n",
      "Requirement already satisfied: numpy>=1.22.4 in c:\\users\\user\\anaconda3\\envs\\tf_env\\lib\\site-packages (from pandas) (2.0.1)\n",
      "Requirement already satisfied: python-dateutil>=2.8.2 in c:\\users\\user\\anaconda3\\envs\\tf_env\\lib\\site-packages (from pandas) (2.9.0.post0)\n",
      "Collecting pytz>=2020.1 (from pandas)\n",
      "  Downloading pytz-2025.1-py2.py3-none-any.whl.metadata (22 kB)\n",
      "Collecting tzdata>=2022.7 (from pandas)\n",
      "  Downloading tzdata-2025.1-py2.py3-none-any.whl.metadata (1.4 kB)\n",
      "Requirement already satisfied: six>=1.5 in c:\\users\\user\\anaconda3\\envs\\tf_env\\lib\\site-packages (from python-dateutil>=2.8.2->pandas) (1.16.0)\n",
      "Downloading pandas-2.2.3-cp39-cp39-win_amd64.whl (11.6 MB)\n",
      "   ---------------------------------------- 0.0/11.6 MB ? eta -:--:--\n",
      "   ---------------------------------------- 0.0/11.6 MB ? eta -:--:--\n",
      "   ---------------------------------------- 0.0/11.6 MB ? eta -:--:--\n",
      "    --------------------------------------- 0.3/11.6 MB ? eta -:--:--\n",
      "    --------------------------------------- 0.3/11.6 MB ? eta -:--:--\n",
      "    --------------------------------------- 0.3/11.6 MB ? eta -:--:--\n",
      "    --------------------------------------- 0.3/11.6 MB ? eta -:--:--\n",
      "    --------------------------------------- 0.3/11.6 MB ? eta -:--:--\n",
      "    --------------------------------------- 0.3/11.6 MB ? eta -:--:--\n",
      "   - -------------------------------------- 0.5/11.6 MB 180.4 kB/s eta 0:01:02\n",
      "   - -------------------------------------- 0.5/11.6 MB 180.4 kB/s eta 0:01:02\n",
      "   - -------------------------------------- 0.5/11.6 MB 180.4 kB/s eta 0:01:02\n",
      "   - -------------------------------------- 0.5/11.6 MB 180.4 kB/s eta 0:01:02\n",
      "   - -------------------------------------- 0.5/11.6 MB 180.4 kB/s eta 0:01:02\n",
      "   - -------------------------------------- 0.5/11.6 MB 180.4 kB/s eta 0:01:02\n",
      "   - -------------------------------------- 0.5/11.6 MB 180.4 kB/s eta 0:01:02\n",
      "   -- ------------------------------------- 0.8/11.6 MB 183.4 kB/s eta 0:01:00\n",
      "   -- ------------------------------------- 0.8/11.6 MB 183.4 kB/s eta 0:01:00\n",
      "   -- ------------------------------------- 0.8/11.6 MB 183.4 kB/s eta 0:01:00\n",
      "   -- ------------------------------------- 0.8/11.6 MB 183.4 kB/s eta 0:01:00\n",
      "   -- ------------------------------------- 0.8/11.6 MB 183.4 kB/s eta 0:01:00\n",
      "   -- ------------------------------------- 0.8/11.6 MB 183.4 kB/s eta 0:01:00\n",
      "   -- ------------------------------------- 0.8/11.6 MB 183.4 kB/s eta 0:01:00\n",
      "   -- ------------------------------------- 0.8/11.6 MB 183.4 kB/s eta 0:01:00\n",
      "   -- ------------------------------------- 0.8/11.6 MB 183.4 kB/s eta 0:01:00\n",
      "   --- ------------------------------------ 1.0/11.6 MB 167.8 kB/s eta 0:01:04\n",
      "   --- ------------------------------------ 1.0/11.6 MB 167.8 kB/s eta 0:01:04\n",
      "   --- ------------------------------------ 1.0/11.6 MB 167.8 kB/s eta 0:01:04\n",
      "   --- ------------------------------------ 1.0/11.6 MB 167.8 kB/s eta 0:01:04\n",
      "   --- ------------------------------------ 1.0/11.6 MB 167.8 kB/s eta 0:01:04\n",
      "   --- ------------------------------------ 1.0/11.6 MB 167.8 kB/s eta 0:01:04\n",
      "   --- ------------------------------------ 1.0/11.6 MB 167.8 kB/s eta 0:01:04\n",
      "   ---- ----------------------------------- 1.3/11.6 MB 164.9 kB/s eta 0:01:03\n",
      "   ---- ----------------------------------- 1.3/11.6 MB 164.9 kB/s eta 0:01:03\n",
      "   ---- ----------------------------------- 1.3/11.6 MB 164.9 kB/s eta 0:01:03\n",
      "   ---- ----------------------------------- 1.3/11.6 MB 164.9 kB/s eta 0:01:03\n",
      "   ---- ----------------------------------- 1.3/11.6 MB 164.9 kB/s eta 0:01:03\n",
      "   ---- ----------------------------------- 1.3/11.6 MB 164.9 kB/s eta 0:01:03\n",
      "   ---- ----------------------------------- 1.3/11.6 MB 164.9 kB/s eta 0:01:03\n",
      "   ---- ----------------------------------- 1.3/11.6 MB 164.9 kB/s eta 0:01:03\n",
      "   ---- ----------------------------------- 1.3/11.6 MB 164.9 kB/s eta 0:01:03\n",
      "   ---- ----------------------------------- 1.3/11.6 MB 164.9 kB/s eta 0:01:03\n",
      "   ---- ----------------------------------- 1.3/11.6 MB 164.9 kB/s eta 0:01:03\n",
      "   ----- ---------------------------------- 1.6/11.6 MB 150.9 kB/s eta 0:01:07\n",
      "   ----- ---------------------------------- 1.6/11.6 MB 150.9 kB/s eta 0:01:07\n",
      "   ----- ---------------------------------- 1.6/11.6 MB 150.9 kB/s eta 0:01:07\n",
      "   ----- ---------------------------------- 1.6/11.6 MB 150.9 kB/s eta 0:01:07\n",
      "   ----- ---------------------------------- 1.6/11.6 MB 150.9 kB/s eta 0:01:07\n",
      "   ----- ---------------------------------- 1.6/11.6 MB 150.9 kB/s eta 0:01:07\n",
      "   ----- ---------------------------------- 1.6/11.6 MB 150.9 kB/s eta 0:01:07\n",
      "   ----- ---------------------------------- 1.6/11.6 MB 150.9 kB/s eta 0:01:07\n",
      "   ----- ---------------------------------- 1.6/11.6 MB 150.9 kB/s eta 0:01:07\n",
      "   ----- ---------------------------------- 1.6/11.6 MB 150.9 kB/s eta 0:01:07\n",
      "   ----- ---------------------------------- 1.6/11.6 MB 150.9 kB/s eta 0:01:07\n",
      "   ----- ---------------------------------- 1.6/11.6 MB 150.9 kB/s eta 0:01:07\n",
      "   ------ --------------------------------- 1.8/11.6 MB 141.6 kB/s eta 0:01:10\n",
      "   ------ --------------------------------- 1.8/11.6 MB 141.6 kB/s eta 0:01:10\n",
      "   ------ --------------------------------- 1.8/11.6 MB 141.6 kB/s eta 0:01:10\n",
      "   ------ --------------------------------- 1.8/11.6 MB 141.6 kB/s eta 0:01:10\n",
      "   ------ --------------------------------- 1.8/11.6 MB 141.6 kB/s eta 0:01:10\n",
      "   ------- -------------------------------- 2.1/11.6 MB 150.2 kB/s eta 0:01:04\n",
      "   ------- -------------------------------- 2.1/11.6 MB 150.2 kB/s eta 0:01:04\n",
      "   ------- -------------------------------- 2.1/11.6 MB 150.2 kB/s eta 0:01:04\n",
      "   ------- -------------------------------- 2.1/11.6 MB 150.2 kB/s eta 0:01:04\n",
      "   ------- -------------------------------- 2.1/11.6 MB 150.2 kB/s eta 0:01:04\n",
      "   ------- -------------------------------- 2.1/11.6 MB 150.2 kB/s eta 0:01:04\n",
      "   -------- ------------------------------- 2.4/11.6 MB 155.7 kB/s eta 0:01:00\n",
      "   -------- ------------------------------- 2.4/11.6 MB 155.7 kB/s eta 0:01:00\n",
      "   -------- ------------------------------- 2.4/11.6 MB 155.7 kB/s eta 0:01:00\n",
      "   -------- ------------------------------- 2.4/11.6 MB 155.7 kB/s eta 0:01:00\n",
      "   -------- ------------------------------- 2.4/11.6 MB 155.7 kB/s eta 0:01:00\n",
      "   -------- ------------------------------- 2.4/11.6 MB 155.7 kB/s eta 0:01:00\n",
      "   -------- ------------------------------- 2.4/11.6 MB 155.7 kB/s eta 0:01:00\n",
      "   -------- ------------------------------- 2.4/11.6 MB 155.7 kB/s eta 0:01:00\n",
      "   -------- ------------------------------- 2.4/11.6 MB 155.7 kB/s eta 0:01:00\n",
      "   -------- ------------------------------- 2.4/11.6 MB 155.7 kB/s eta 0:01:00\n",
      "   -------- ------------------------------- 2.4/11.6 MB 155.7 kB/s eta 0:01:00\n",
      "   -------- ------------------------------- 2.4/11.6 MB 155.7 kB/s eta 0:01:00\n",
      "   --------- ------------------------------ 2.6/11.6 MB 146.6 kB/s eta 0:01:02\n",
      "   --------- ------------------------------ 2.6/11.6 MB 146.6 kB/s eta 0:01:02\n",
      "   --------- ------------------------------ 2.6/11.6 MB 146.6 kB/s eta 0:01:02\n",
      "   --------- ------------------------------ 2.6/11.6 MB 146.6 kB/s eta 0:01:02\n",
      "   --------- ------------------------------ 2.6/11.6 MB 146.6 kB/s eta 0:01:02\n",
      "   --------- ------------------------------ 2.6/11.6 MB 146.6 kB/s eta 0:01:02\n",
      "   --------- ------------------------------ 2.6/11.6 MB 146.6 kB/s eta 0:01:02\n",
      "   --------- ------------------------------ 2.6/11.6 MB 146.6 kB/s eta 0:01:02\n",
      "   --------- ------------------------------ 2.6/11.6 MB 146.6 kB/s eta 0:01:02\n",
      "   --------- ------------------------------ 2.6/11.6 MB 146.6 kB/s eta 0:01:02\n",
      "   --------- ------------------------------ 2.6/11.6 MB 146.6 kB/s eta 0:01:02\n",
      "   --------- ------------------------------ 2.6/11.6 MB 146.6 kB/s eta 0:01:02\n",
      "   --------- ------------------------------ 2.6/11.6 MB 146.6 kB/s eta 0:01:02\n",
      "   --------- ------------------------------ 2.6/11.6 MB 146.6 kB/s eta 0:01:02\n",
      "   --------- ------------------------------ 2.6/11.6 MB 146.6 kB/s eta 0:01:02\n",
      "   --------- ------------------------------ 2.9/11.6 MB 136.8 kB/s eta 0:01:04\n",
      "   --------- ------------------------------ 2.9/11.6 MB 136.8 kB/s eta 0:01:04\n",
      "   --------- ------------------------------ 2.9/11.6 MB 136.8 kB/s eta 0:01:04\n",
      "   --------- ------------------------------ 2.9/11.6 MB 136.8 kB/s eta 0:01:04\n",
      "   --------- ------------------------------ 2.9/11.6 MB 136.8 kB/s eta 0:01:04\n",
      "   --------- ------------------------------ 2.9/11.6 MB 136.8 kB/s eta 0:01:04\n",
      "   --------- ------------------------------ 2.9/11.6 MB 136.8 kB/s eta 0:01:04\n",
      "   --------- ------------------------------ 2.9/11.6 MB 136.8 kB/s eta 0:01:04\n",
      "   --------- ------------------------------ 2.9/11.6 MB 136.8 kB/s eta 0:01:04\n",
      "   --------- ------------------------------ 2.9/11.6 MB 136.8 kB/s eta 0:01:04\n",
      "   --------- ------------------------------ 2.9/11.6 MB 136.8 kB/s eta 0:01:04\n",
      "   --------- ------------------------------ 2.9/11.6 MB 136.8 kB/s eta 0:01:04\n",
      "   ---------- ----------------------------- 3.1/11.6 MB 131.5 kB/s eta 0:01:05\n",
      "   ---------- ----------------------------- 3.1/11.6 MB 131.5 kB/s eta 0:01:05\n",
      "   ---------- ----------------------------- 3.1/11.6 MB 131.5 kB/s eta 0:01:05\n",
      "   ---------- ----------------------------- 3.1/11.6 MB 131.5 kB/s eta 0:01:05\n",
      "   ---------- ----------------------------- 3.1/11.6 MB 131.5 kB/s eta 0:01:05\n",
      "   ---------- ----------------------------- 3.1/11.6 MB 131.5 kB/s eta 0:01:05\n",
      "   ---------- ----------------------------- 3.1/11.6 MB 131.5 kB/s eta 0:01:05\n",
      "   ---------- ----------------------------- 3.1/11.6 MB 131.5 kB/s eta 0:01:05\n",
      "   ---------- ----------------------------- 3.1/11.6 MB 131.5 kB/s eta 0:01:05\n",
      "   ---------- ----------------------------- 3.1/11.6 MB 131.5 kB/s eta 0:01:05\n",
      "   ----------- ---------------------------- 3.4/11.6 MB 130.9 kB/s eta 0:01:03\n",
      "   ----------- ---------------------------- 3.4/11.6 MB 130.9 kB/s eta 0:01:03\n",
      "   ----------- ---------------------------- 3.4/11.6 MB 130.9 kB/s eta 0:01:03\n",
      "   ----------- ---------------------------- 3.4/11.6 MB 130.9 kB/s eta 0:01:03\n",
      "   ----------- ---------------------------- 3.4/11.6 MB 130.9 kB/s eta 0:01:03\n",
      "   ----------- ---------------------------- 3.4/11.6 MB 130.9 kB/s eta 0:01:03\n",
      "   ----------- ---------------------------- 3.4/11.6 MB 130.9 kB/s eta 0:01:03\n",
      "   ----------- ---------------------------- 3.4/11.6 MB 130.9 kB/s eta 0:01:03\n",
      "   ----------- ---------------------------- 3.4/11.6 MB 130.9 kB/s eta 0:01:03\n",
      "   ----------- ---------------------------- 3.4/11.6 MB 130.9 kB/s eta 0:01:03\n",
      "   ----------- ---------------------------- 3.4/11.6 MB 130.9 kB/s eta 0:01:03\n",
      "   ----------- ---------------------------- 3.4/11.6 MB 130.9 kB/s eta 0:01:03\n",
      "   ----------- ---------------------------- 3.4/11.6 MB 130.9 kB/s eta 0:01:03\n",
      "   ----------- ---------------------------- 3.4/11.6 MB 130.9 kB/s eta 0:01:03\n",
      "   ----------- ---------------------------- 3.4/11.6 MB 130.9 kB/s eta 0:01:03\n",
      "   ----------- ---------------------------- 3.4/11.6 MB 130.9 kB/s eta 0:01:03\n",
      "   ------------ --------------------------- 3.7/11.6 MB 124.6 kB/s eta 0:01:04\n",
      "   ------------ --------------------------- 3.7/11.6 MB 124.6 kB/s eta 0:01:04\n",
      "   ------------ --------------------------- 3.7/11.6 MB 124.6 kB/s eta 0:01:04\n",
      "   ------------ --------------------------- 3.7/11.6 MB 124.6 kB/s eta 0:01:04\n",
      "   ------------ --------------------------- 3.7/11.6 MB 124.6 kB/s eta 0:01:04\n",
      "   ------------ --------------------------- 3.7/11.6 MB 124.6 kB/s eta 0:01:04\n",
      "   ------------ --------------------------- 3.7/11.6 MB 124.6 kB/s eta 0:01:04\n",
      "   ------------ --------------------------- 3.7/11.6 MB 124.6 kB/s eta 0:01:04\n",
      "   ------------ --------------------------- 3.7/11.6 MB 124.6 kB/s eta 0:01:04\n",
      "   ------------ --------------------------- 3.7/11.6 MB 124.6 kB/s eta 0:01:04\n",
      "   ------------ --------------------------- 3.7/11.6 MB 124.6 kB/s eta 0:01:04\n",
      "   ------------- -------------------------- 3.9/11.6 MB 123.3 kB/s eta 0:01:03\n",
      "   ------------- -------------------------- 3.9/11.6 MB 123.3 kB/s eta 0:01:03\n",
      "   ------------- -------------------------- 3.9/11.6 MB 123.3 kB/s eta 0:01:03\n",
      "   ------------- -------------------------- 3.9/11.6 MB 123.3 kB/s eta 0:01:03\n",
      "   ------------- -------------------------- 3.9/11.6 MB 123.3 kB/s eta 0:01:03\n",
      "   ------------- -------------------------- 3.9/11.6 MB 123.3 kB/s eta 0:01:03\n",
      "   ------------- -------------------------- 3.9/11.6 MB 123.3 kB/s eta 0:01:03\n",
      "   ------------- -------------------------- 3.9/11.6 MB 123.3 kB/s eta 0:01:03\n",
      "   ------------- -------------------------- 3.9/11.6 MB 123.3 kB/s eta 0:01:03\n",
      "   ------------- -------------------------- 3.9/11.6 MB 123.3 kB/s eta 0:01:03\n",
      "   ------------- -------------------------- 3.9/11.6 MB 123.3 kB/s eta 0:01:03\n",
      "   ------------- -------------------------- 3.9/11.6 MB 123.3 kB/s eta 0:01:03\n",
      "   ------------- -------------------------- 3.9/11.6 MB 123.3 kB/s eta 0:01:03\n",
      "   -------------- ------------------------- 4.2/11.6 MB 115.3 kB/s eta 0:01:05\n",
      "   -------------- ------------------------- 4.2/11.6 MB 115.3 kB/s eta 0:01:05\n",
      "   -------------- ------------------------- 4.2/11.6 MB 115.3 kB/s eta 0:01:05\n",
      "   -------------- ------------------------- 4.2/11.6 MB 115.3 kB/s eta 0:01:05\n",
      "   -------------- ------------------------- 4.2/11.6 MB 115.3 kB/s eta 0:01:05\n",
      "   -------------- ------------------------- 4.2/11.6 MB 115.3 kB/s eta 0:01:05\n",
      "   -------------- ------------------------- 4.2/11.6 MB 115.3 kB/s eta 0:01:05\n",
      "   -------------- ------------------------- 4.2/11.6 MB 115.3 kB/s eta 0:01:05\n",
      "   -------------- ------------------------- 4.2/11.6 MB 115.3 kB/s eta 0:01:05\n",
      "   -------------- ------------------------- 4.2/11.6 MB 115.3 kB/s eta 0:01:05\n",
      "   -------------- ------------------------- 4.2/11.6 MB 115.3 kB/s eta 0:01:05\n",
      "   --------------- ------------------------ 4.5/11.6 MB 113.7 kB/s eta 0:01:04\n",
      "   --------------- ------------------------ 4.5/11.6 MB 113.7 kB/s eta 0:01:04\n",
      "   --------------- ------------------------ 4.5/11.6 MB 113.7 kB/s eta 0:01:04\n",
      "   --------------- ------------------------ 4.5/11.6 MB 113.7 kB/s eta 0:01:04\n",
      "   --------------- ------------------------ 4.5/11.6 MB 113.7 kB/s eta 0:01:04\n",
      "   --------------- ------------------------ 4.5/11.6 MB 113.7 kB/s eta 0:01:04\n",
      "   --------------- ------------------------ 4.5/11.6 MB 113.7 kB/s eta 0:01:04\n",
      "   --------------- ------------------------ 4.5/11.6 MB 113.7 kB/s eta 0:01:04\n",
      "   --------------- ------------------------ 4.5/11.6 MB 113.7 kB/s eta 0:01:04\n",
      "   ---------------- ----------------------- 4.7/11.6 MB 113.4 kB/s eta 0:01:01\n",
      "   ---------------- ----------------------- 4.7/11.6 MB 113.4 kB/s eta 0:01:01\n",
      "   ---------------- ----------------------- 4.7/11.6 MB 113.4 kB/s eta 0:01:01\n",
      "   ---------------- ----------------------- 4.7/11.6 MB 113.4 kB/s eta 0:01:01\n",
      "   ---------------- ----------------------- 4.7/11.6 MB 113.4 kB/s eta 0:01:01\n",
      "   ---------------- ----------------------- 4.7/11.6 MB 113.4 kB/s eta 0:01:01\n",
      "   ---------------- ----------------------- 4.7/11.6 MB 113.4 kB/s eta 0:01:01\n",
      "   ---------------- ----------------------- 4.7/11.6 MB 113.4 kB/s eta 0:01:01\n",
      "   ---------------- ----------------------- 4.7/11.6 MB 113.4 kB/s eta 0:01:01\n",
      "   ----------------- ---------------------- 5.0/11.6 MB 115.3 kB/s eta 0:00:58\n",
      "   ----------------- ---------------------- 5.0/11.6 MB 115.3 kB/s eta 0:00:58\n",
      "   ----------------- ---------------------- 5.0/11.6 MB 115.3 kB/s eta 0:00:58\n",
      "   ----------------- ---------------------- 5.0/11.6 MB 115.3 kB/s eta 0:00:58\n",
      "   ----------------- ---------------------- 5.0/11.6 MB 115.3 kB/s eta 0:00:58\n",
      "   ----------------- ---------------------- 5.0/11.6 MB 115.3 kB/s eta 0:00:58\n",
      "   ----------------- ---------------------- 5.0/11.6 MB 115.3 kB/s eta 0:00:58\n",
      "   ----------------- ---------------------- 5.0/11.6 MB 115.3 kB/s eta 0:00:58\n",
      "   ------------------ --------------------- 5.2/11.6 MB 118.2 kB/s eta 0:00:54\n",
      "   ------------------ --------------------- 5.2/11.6 MB 118.2 kB/s eta 0:00:54\n",
      "   ------------------ --------------------- 5.2/11.6 MB 118.2 kB/s eta 0:00:54\n",
      "   ------------------ --------------------- 5.2/11.6 MB 118.2 kB/s eta 0:00:54\n",
      "   ------------------ --------------------- 5.2/11.6 MB 118.2 kB/s eta 0:00:54\n",
      "   ------------------ --------------------- 5.2/11.6 MB 118.2 kB/s eta 0:00:54\n",
      "   ------------------ --------------------- 5.2/11.6 MB 118.2 kB/s eta 0:00:54\n",
      "   ------------------ --------------------- 5.2/11.6 MB 118.2 kB/s eta 0:00:54\n",
      "   ------------------ --------------------- 5.2/11.6 MB 118.2 kB/s eta 0:00:54\n",
      "   ------------------ --------------------- 5.2/11.6 MB 118.2 kB/s eta 0:00:54\n",
      "   ------------------ --------------------- 5.2/11.6 MB 118.2 kB/s eta 0:00:54\n",
      "   ------------------ --------------------- 5.5/11.6 MB 114.0 kB/s eta 0:00:54\n",
      "   ------------------ --------------------- 5.5/11.6 MB 114.0 kB/s eta 0:00:54\n",
      "   ------------------ --------------------- 5.5/11.6 MB 114.0 kB/s eta 0:00:54\n",
      "   ------------------ --------------------- 5.5/11.6 MB 114.0 kB/s eta 0:00:54\n",
      "   ------------------ --------------------- 5.5/11.6 MB 114.0 kB/s eta 0:00:54\n",
      "   ------------------ --------------------- 5.5/11.6 MB 114.0 kB/s eta 0:00:54\n",
      "   ------------------ --------------------- 5.5/11.6 MB 114.0 kB/s eta 0:00:54\n",
      "   ------------------ --------------------- 5.5/11.6 MB 114.0 kB/s eta 0:00:54\n",
      "   ------------------ --------------------- 5.5/11.6 MB 114.0 kB/s eta 0:00:54\n",
      "   ------------------ --------------------- 5.5/11.6 MB 114.0 kB/s eta 0:00:54\n",
      "   ------------------ --------------------- 5.5/11.6 MB 114.0 kB/s eta 0:00:54\n",
      "   ------------------ --------------------- 5.5/11.6 MB 114.0 kB/s eta 0:00:54\n",
      "   ------------------ --------------------- 5.5/11.6 MB 114.0 kB/s eta 0:00:54\n",
      "   ------------------- -------------------- 5.8/11.6 MB 109.4 kB/s eta 0:00:54\n",
      "   ------------------- -------------------- 5.8/11.6 MB 109.4 kB/s eta 0:00:54\n",
      "   ------------------- -------------------- 5.8/11.6 MB 109.4 kB/s eta 0:00:54\n",
      "   ------------------- -------------------- 5.8/11.6 MB 109.4 kB/s eta 0:00:54\n",
      "   ------------------- -------------------- 5.8/11.6 MB 109.4 kB/s eta 0:00:54\n",
      "   ------------------- -------------------- 5.8/11.6 MB 109.4 kB/s eta 0:00:54\n",
      "   ------------------- -------------------- 5.8/11.6 MB 109.4 kB/s eta 0:00:54\n",
      "   ------------------- -------------------- 5.8/11.6 MB 109.4 kB/s eta 0:00:54\n",
      "   ------------------- -------------------- 5.8/11.6 MB 109.4 kB/s eta 0:00:54\n",
      "   -------------------- ------------------- 6.0/11.6 MB 114.1 kB/s eta 0:00:49\n",
      "   -------------------- ------------------- 6.0/11.6 MB 114.1 kB/s eta 0:00:49\n",
      "   -------------------- ------------------- 6.0/11.6 MB 114.1 kB/s eta 0:00:49\n",
      "   -------------------- ------------------- 6.0/11.6 MB 114.1 kB/s eta 0:00:49\n",
      "   -------------------- ------------------- 6.0/11.6 MB 114.1 kB/s eta 0:00:49\n",
      "   -------------------- ------------------- 6.0/11.6 MB 114.1 kB/s eta 0:00:49\n",
      "   -------------------- ------------------- 6.0/11.6 MB 114.1 kB/s eta 0:00:49\n",
      "   -------------------- ------------------- 6.0/11.6 MB 114.1 kB/s eta 0:00:49\n",
      "   -------------------- ------------------- 6.0/11.6 MB 114.1 kB/s eta 0:00:49\n",
      "   -------------------- ------------------- 6.0/11.6 MB 114.1 kB/s eta 0:00:49\n",
      "   -------------------- ------------------- 6.0/11.6 MB 114.1 kB/s eta 0:00:49\n",
      "   -------------------- ------------------- 6.0/11.6 MB 114.1 kB/s eta 0:00:49\n",
      "   -------------------- ------------------- 6.0/11.6 MB 114.1 kB/s eta 0:00:49\n",
      "   -------------------- ------------------- 6.0/11.6 MB 114.1 kB/s eta 0:00:49\n",
      "   --------------------- ------------------ 6.3/11.6 MB 113.7 kB/s eta 0:00:47\n",
      "   --------------------- ------------------ 6.3/11.6 MB 113.7 kB/s eta 0:00:47\n",
      "   --------------------- ------------------ 6.3/11.6 MB 113.7 kB/s eta 0:00:47\n",
      "   --------------------- ------------------ 6.3/11.6 MB 113.7 kB/s eta 0:00:47\n",
      "   --------------------- ------------------ 6.3/11.6 MB 113.7 kB/s eta 0:00:47\n",
      "   --------------------- ------------------ 6.3/11.6 MB 113.7 kB/s eta 0:00:47\n",
      "   --------------------- ------------------ 6.3/11.6 MB 113.7 kB/s eta 0:00:47\n",
      "   --------------------- ------------------ 6.3/11.6 MB 113.7 kB/s eta 0:00:47\n",
      "   --------------------- ------------------ 6.3/11.6 MB 113.7 kB/s eta 0:00:47\n",
      "   --------------------- ------------------ 6.3/11.6 MB 113.7 kB/s eta 0:00:47\n",
      "   --------------------- ------------------ 6.3/11.6 MB 113.7 kB/s eta 0:00:47\n",
      "   --------------------- ------------------ 6.3/11.6 MB 113.7 kB/s eta 0:00:47\n",
      "   ---------------------- ----------------- 6.6/11.6 MB 112.5 kB/s eta 0:00:46\n",
      "   ---------------------- ----------------- 6.6/11.6 MB 112.5 kB/s eta 0:00:46\n",
      "   ---------------------- ----------------- 6.6/11.6 MB 112.5 kB/s eta 0:00:46\n",
      "   ---------------------- ----------------- 6.6/11.6 MB 112.5 kB/s eta 0:00:46\n",
      "   ---------------------- ----------------- 6.6/11.6 MB 112.5 kB/s eta 0:00:46\n",
      "   ---------------------- ----------------- 6.6/11.6 MB 112.5 kB/s eta 0:00:46\n",
      "   ---------------------- ----------------- 6.6/11.6 MB 112.5 kB/s eta 0:00:46\n",
      "   ---------------------- ----------------- 6.6/11.6 MB 112.5 kB/s eta 0:00:46\n",
      "   ---------------------- ----------------- 6.6/11.6 MB 112.5 kB/s eta 0:00:46\n",
      "   ---------------------- ----------------- 6.6/11.6 MB 112.5 kB/s eta 0:00:46\n",
      "   ----------------------- ---------------- 6.8/11.6 MB 117.7 kB/s eta 0:00:41\n",
      "   ----------------------- ---------------- 6.8/11.6 MB 117.7 kB/s eta 0:00:41\n",
      "   ----------------------- ---------------- 6.8/11.6 MB 117.7 kB/s eta 0:00:41\n",
      "   ----------------------- ---------------- 6.8/11.6 MB 117.7 kB/s eta 0:00:41\n",
      "   ----------------------- ---------------- 6.8/11.6 MB 117.7 kB/s eta 0:00:41\n",
      "   ----------------------- ---------------- 6.8/11.6 MB 117.7 kB/s eta 0:00:41\n",
      "   ----------------------- ---------------- 6.8/11.6 MB 117.7 kB/s eta 0:00:41\n",
      "   ----------------------- ---------------- 6.8/11.6 MB 117.7 kB/s eta 0:00:41\n",
      "   ----------------------- ---------------- 6.8/11.6 MB 117.7 kB/s eta 0:00:41\n",
      "   ----------------------- ---------------- 6.8/11.6 MB 117.7 kB/s eta 0:00:41\n",
      "   ----------------------- ---------------- 6.8/11.6 MB 117.7 kB/s eta 0:00:41\n",
      "   ------------------------ --------------- 7.1/11.6 MB 117.4 kB/s eta 0:00:39\n",
      "   ------------------------ --------------- 7.1/11.6 MB 117.4 kB/s eta 0:00:39\n",
      "   ------------------------ --------------- 7.1/11.6 MB 117.4 kB/s eta 0:00:39\n",
      "   ------------------------ --------------- 7.1/11.6 MB 117.4 kB/s eta 0:00:39\n",
      "   ------------------------ --------------- 7.1/11.6 MB 117.4 kB/s eta 0:00:39\n",
      "   ------------------------ --------------- 7.1/11.6 MB 117.4 kB/s eta 0:00:39\n",
      "   ------------------------ --------------- 7.1/11.6 MB 117.4 kB/s eta 0:00:39\n",
      "   ------------------------- -------------- 7.3/11.6 MB 121.0 kB/s eta 0:00:36\n",
      "   ------------------------- -------------- 7.3/11.6 MB 121.0 kB/s eta 0:00:36\n",
      "   ------------------------- -------------- 7.3/11.6 MB 121.0 kB/s eta 0:00:36\n",
      "   ------------------------- -------------- 7.3/11.6 MB 121.0 kB/s eta 0:00:36\n",
      "   ------------------------- -------------- 7.3/11.6 MB 121.0 kB/s eta 0:00:36\n",
      "   ------------------------- -------------- 7.3/11.6 MB 121.0 kB/s eta 0:00:36\n",
      "   ------------------------- -------------- 7.3/11.6 MB 121.0 kB/s eta 0:00:36\n",
      "   ------------------------- -------------- 7.3/11.6 MB 121.0 kB/s eta 0:00:36\n",
      "   ------------------------- -------------- 7.3/11.6 MB 121.0 kB/s eta 0:00:36\n",
      "   ------------------------- -------------- 7.3/11.6 MB 121.0 kB/s eta 0:00:36\n",
      "   ------------------------- -------------- 7.3/11.6 MB 121.0 kB/s eta 0:00:36\n",
      "   ------------------------- -------------- 7.3/11.6 MB 121.0 kB/s eta 0:00:36\n",
      "   ------------------------- -------------- 7.3/11.6 MB 121.0 kB/s eta 0:00:36\n",
      "   ------------------------- -------------- 7.3/11.6 MB 121.0 kB/s eta 0:00:36\n",
      "   ------------------------- -------------- 7.3/11.6 MB 121.0 kB/s eta 0:00:36\n",
      "   ------------------------- -------------- 7.3/11.6 MB 121.0 kB/s eta 0:00:36\n",
      "   -------------------------- ------------- 7.6/11.6 MB 118.2 kB/s eta 0:00:34\n",
      "   -------------------------- ------------- 7.6/11.6 MB 118.2 kB/s eta 0:00:34\n",
      "   -------------------------- ------------- 7.6/11.6 MB 118.2 kB/s eta 0:00:34\n",
      "   -------------------------- ------------- 7.6/11.6 MB 118.2 kB/s eta 0:00:34\n",
      "   -------------------------- ------------- 7.6/11.6 MB 118.2 kB/s eta 0:00:34\n",
      "   -------------------------- ------------- 7.6/11.6 MB 118.2 kB/s eta 0:00:34\n",
      "   -------------------------- ------------- 7.6/11.6 MB 118.2 kB/s eta 0:00:34\n",
      "   -------------------------- ------------- 7.6/11.6 MB 118.2 kB/s eta 0:00:34\n",
      "   --------------------------- ------------ 7.9/11.6 MB 120.9 kB/s eta 0:00:32\n",
      "   --------------------------- ------------ 7.9/11.6 MB 120.9 kB/s eta 0:00:32\n",
      "   --------------------------- ------------ 7.9/11.6 MB 120.9 kB/s eta 0:00:32\n",
      "   --------------------------- ------------ 7.9/11.6 MB 120.9 kB/s eta 0:00:32\n",
      "   --------------------------- ------------ 7.9/11.6 MB 120.9 kB/s eta 0:00:32\n",
      "   --------------------------- ------------ 7.9/11.6 MB 120.9 kB/s eta 0:00:32\n",
      "   --------------------------- ------------ 7.9/11.6 MB 120.9 kB/s eta 0:00:32\n",
      "   --------------------------- ------------ 7.9/11.6 MB 120.9 kB/s eta 0:00:32\n",
      "   --------------------------- ------------ 7.9/11.6 MB 120.9 kB/s eta 0:00:32\n",
      "   --------------------------- ------------ 7.9/11.6 MB 120.9 kB/s eta 0:00:32\n",
      "   --------------------------- ------------ 7.9/11.6 MB 120.9 kB/s eta 0:00:32\n",
      "   --------------------------- ------------ 8.1/11.6 MB 118.5 kB/s eta 0:00:30\n",
      "   --------------------------- ------------ 8.1/11.6 MB 118.5 kB/s eta 0:00:30\n",
      "   --------------------------- ------------ 8.1/11.6 MB 118.5 kB/s eta 0:00:30\n",
      "   --------------------------- ------------ 8.1/11.6 MB 118.5 kB/s eta 0:00:30\n",
      "   --------------------------- ------------ 8.1/11.6 MB 118.5 kB/s eta 0:00:30\n",
      "   --------------------------- ------------ 8.1/11.6 MB 118.5 kB/s eta 0:00:30\n",
      "   --------------------------- ------------ 8.1/11.6 MB 118.5 kB/s eta 0:00:30\n",
      "   --------------------------- ------------ 8.1/11.6 MB 118.5 kB/s eta 0:00:30\n",
      "   --------------------------- ------------ 8.1/11.6 MB 118.5 kB/s eta 0:00:30\n",
      "   --------------------------- ------------ 8.1/11.6 MB 118.5 kB/s eta 0:00:30\n",
      "   --------------------------- ------------ 8.1/11.6 MB 118.5 kB/s eta 0:00:30\n",
      "   --------------------------- ------------ 8.1/11.6 MB 118.5 kB/s eta 0:00:30\n",
      "   --------------------------- ------------ 8.1/11.6 MB 118.5 kB/s eta 0:00:30\n",
      "   --------------------------- ------------ 8.1/11.6 MB 118.5 kB/s eta 0:00:30\n",
      "   --------------------------- ------------ 8.1/11.6 MB 118.5 kB/s eta 0:00:30\n",
      "   --------------------------- ------------ 8.1/11.6 MB 118.5 kB/s eta 0:00:30\n",
      "   ---------------------------- ----------- 8.4/11.6 MB 110.0 kB/s eta 0:00:30\n",
      "   ---------------------------- ----------- 8.4/11.6 MB 110.0 kB/s eta 0:00:30\n",
      "   ---------------------------- ----------- 8.4/11.6 MB 110.0 kB/s eta 0:00:30\n",
      "   ---------------------------- ----------- 8.4/11.6 MB 110.0 kB/s eta 0:00:30\n",
      "   ---------------------------- ----------- 8.4/11.6 MB 110.0 kB/s eta 0:00:30\n",
      "   ---------------------------- ----------- 8.4/11.6 MB 110.0 kB/s eta 0:00:30\n",
      "   ---------------------------- ----------- 8.4/11.6 MB 110.0 kB/s eta 0:00:30\n",
      "   ---------------------------- ----------- 8.4/11.6 MB 110.0 kB/s eta 0:00:30\n",
      "   ---------------------------- ----------- 8.4/11.6 MB 110.0 kB/s eta 0:00:30\n",
      "   ---------------------------- ----------- 8.4/11.6 MB 110.0 kB/s eta 0:00:30\n",
      "   ---------------------------- ----------- 8.4/11.6 MB 110.0 kB/s eta 0:00:30\n",
      "   ---------------------------- ----------- 8.4/11.6 MB 110.0 kB/s eta 0:00:30\n",
      "   ---------------------------- ----------- 8.4/11.6 MB 110.0 kB/s eta 0:00:30\n",
      "   ---------------------------- ----------- 8.4/11.6 MB 110.0 kB/s eta 0:00:30\n",
      "   ---------------------------- ----------- 8.4/11.6 MB 110.0 kB/s eta 0:00:30\n",
      "   ---------------------------- ----------- 8.4/11.6 MB 110.0 kB/s eta 0:00:30\n",
      "   ---------------------------- ----------- 8.4/11.6 MB 110.0 kB/s eta 0:00:30\n",
      "   ---------------------------- ----------- 8.4/11.6 MB 110.0 kB/s eta 0:00:30\n",
      "   ---------------------------- ----------- 8.4/11.6 MB 110.0 kB/s eta 0:00:30\n",
      "   ----------------------------- ---------- 8.7/11.6 MB 104.9 kB/s eta 0:00:29\n",
      "   ----------------------------- ---------- 8.7/11.6 MB 104.9 kB/s eta 0:00:29\n",
      "   ----------------------------- ---------- 8.7/11.6 MB 104.9 kB/s eta 0:00:29\n",
      "   ----------------------------- ---------- 8.7/11.6 MB 104.9 kB/s eta 0:00:29\n",
      "   ----------------------------- ---------- 8.7/11.6 MB 104.9 kB/s eta 0:00:29\n",
      "   ----------------------------- ---------- 8.7/11.6 MB 104.9 kB/s eta 0:00:29\n",
      "   ----------------------------- ---------- 8.7/11.6 MB 104.9 kB/s eta 0:00:29\n",
      "   ----------------------------- ---------- 8.7/11.6 MB 104.9 kB/s eta 0:00:29\n",
      "   ----------------------------- ---------- 8.7/11.6 MB 104.9 kB/s eta 0:00:29\n",
      "   ----------------------------- ---------- 8.7/11.6 MB 104.9 kB/s eta 0:00:29\n",
      "   ----------------------------- ---------- 8.7/11.6 MB 104.9 kB/s eta 0:00:29\n",
      "   ----------------------------- ---------- 8.7/11.6 MB 104.9 kB/s eta 0:00:29\n",
      "   ----------------------------- ---------- 8.7/11.6 MB 104.9 kB/s eta 0:00:29\n",
      "   ----------------------------- ---------- 8.7/11.6 MB 104.9 kB/s eta 0:00:29\n",
      "   ----------------------------- ---------- 8.7/11.6 MB 104.9 kB/s eta 0:00:29\n",
      "   ------------------------------ --------- 8.9/11.6 MB 100.1 kB/s eta 0:00:28\n",
      "   ------------------------------ --------- 8.9/11.6 MB 100.1 kB/s eta 0:00:28\n",
      "   ------------------------------ --------- 8.9/11.6 MB 100.1 kB/s eta 0:00:28\n",
      "   ------------------------------ --------- 8.9/11.6 MB 100.1 kB/s eta 0:00:28\n",
      "   ------------------------------ --------- 8.9/11.6 MB 100.1 kB/s eta 0:00:28\n",
      "   ------------------------------ --------- 8.9/11.6 MB 100.1 kB/s eta 0:00:28\n",
      "   ------------------------------ --------- 8.9/11.6 MB 100.1 kB/s eta 0:00:28\n",
      "   ------------------------------ --------- 8.9/11.6 MB 100.1 kB/s eta 0:00:28\n",
      "   ------------------------------ --------- 8.9/11.6 MB 100.1 kB/s eta 0:00:28\n",
      "   ------------------------------ --------- 8.9/11.6 MB 100.1 kB/s eta 0:00:28\n",
      "   ------------------------------ --------- 8.9/11.6 MB 100.1 kB/s eta 0:00:28\n",
      "   ------------------------------ --------- 8.9/11.6 MB 100.1 kB/s eta 0:00:28\n",
      "   ------------------------------- -------- 9.2/11.6 MB 101.1 kB/s eta 0:00:25\n",
      "   ------------------------------- -------- 9.2/11.6 MB 101.1 kB/s eta 0:00:25\n",
      "   ------------------------------- -------- 9.2/11.6 MB 101.1 kB/s eta 0:00:25\n",
      "   ------------------------------- -------- 9.2/11.6 MB 101.1 kB/s eta 0:00:25\n",
      "   ------------------------------- -------- 9.2/11.6 MB 101.1 kB/s eta 0:00:25\n",
      "   ------------------------------- -------- 9.2/11.6 MB 101.1 kB/s eta 0:00:25\n",
      "   ------------------------------- -------- 9.2/11.6 MB 101.1 kB/s eta 0:00:25\n",
      "   ------------------------------- -------- 9.2/11.6 MB 101.1 kB/s eta 0:00:25\n",
      "   ------------------------------- -------- 9.2/11.6 MB 101.1 kB/s eta 0:00:25\n",
      "   ------------------------------- -------- 9.2/11.6 MB 101.1 kB/s eta 0:00:25\n",
      "   ------------------------------- -------- 9.2/11.6 MB 101.1 kB/s eta 0:00:25\n",
      "   -------------------------------- ------- 9.4/11.6 MB 102.2 kB/s eta 0:00:22\n",
      "   -------------------------------- ------- 9.4/11.6 MB 102.2 kB/s eta 0:00:22\n",
      "   -------------------------------- ------- 9.4/11.6 MB 102.2 kB/s eta 0:00:22\n",
      "   -------------------------------- ------- 9.4/11.6 MB 102.2 kB/s eta 0:00:22\n",
      "   -------------------------------- ------- 9.4/11.6 MB 102.2 kB/s eta 0:00:22\n",
      "   -------------------------------- ------- 9.4/11.6 MB 102.2 kB/s eta 0:00:22\n",
      "   -------------------------------- ------- 9.4/11.6 MB 102.2 kB/s eta 0:00:22\n",
      "   -------------------------------- ------- 9.4/11.6 MB 102.2 kB/s eta 0:00:22\n",
      "   -------------------------------- ------- 9.4/11.6 MB 102.2 kB/s eta 0:00:22\n",
      "   -------------------------------- ------- 9.4/11.6 MB 102.2 kB/s eta 0:00:22\n",
      "   -------------------------------- ------- 9.4/11.6 MB 102.2 kB/s eta 0:00:22\n",
      "   -------------------------------- ------- 9.4/11.6 MB 102.2 kB/s eta 0:00:22\n",
      "   -------------------------------- ------- 9.4/11.6 MB 102.2 kB/s eta 0:00:22\n",
      "   -------------------------------- ------- 9.4/11.6 MB 102.2 kB/s eta 0:00:22\n",
      "   --------------------------------- ------ 9.7/11.6 MB 98.9 kB/s eta 0:00:20\n",
      "   --------------------------------- ------ 9.7/11.6 MB 98.9 kB/s eta 0:00:20\n",
      "   --------------------------------- ------ 9.7/11.6 MB 98.9 kB/s eta 0:00:20\n",
      "   --------------------------------- ------ 9.7/11.6 MB 98.9 kB/s eta 0:00:20\n",
      "   --------------------------------- ------ 9.7/11.6 MB 98.9 kB/s eta 0:00:20\n",
      "   --------------------------------- ------ 9.7/11.6 MB 98.9 kB/s eta 0:00:20\n",
      "   --------------------------------- ------ 9.7/11.6 MB 98.9 kB/s eta 0:00:20\n",
      "   --------------------------------- ------ 9.7/11.6 MB 98.9 kB/s eta 0:00:20\n",
      "   --------------------------------- ------ 9.7/11.6 MB 98.9 kB/s eta 0:00:20\n",
      "   --------------------------------- ------ 9.7/11.6 MB 98.9 kB/s eta 0:00:20\n",
      "   --------------------------------- ------ 9.7/11.6 MB 98.9 kB/s eta 0:00:20\n",
      "   --------------------------------- ------ 9.7/11.6 MB 98.9 kB/s eta 0:00:20\n",
      "   --------------------------------- ------ 9.7/11.6 MB 98.9 kB/s eta 0:00:20\n",
      "   --------------------------------- ------ 9.7/11.6 MB 98.9 kB/s eta 0:00:20\n",
      "   ---------------------------------- ----- 10.0/11.6 MB 97.0 kB/s eta 0:00:18\n",
      "   ---------------------------------- ----- 10.0/11.6 MB 97.0 kB/s eta 0:00:18\n",
      "   ---------------------------------- ----- 10.0/11.6 MB 97.0 kB/s eta 0:00:18\n",
      "   ---------------------------------- ----- 10.0/11.6 MB 97.0 kB/s eta 0:00:18\n",
      "   ---------------------------------- ----- 10.0/11.6 MB 97.0 kB/s eta 0:00:18\n",
      "   ---------------------------------- ----- 10.0/11.6 MB 97.0 kB/s eta 0:00:18\n",
      "   ---------------------------------- ----- 10.0/11.6 MB 97.0 kB/s eta 0:00:18\n",
      "   ---------------------------------- ----- 10.0/11.6 MB 97.0 kB/s eta 0:00:18\n",
      "   ---------------------------------- ----- 10.0/11.6 MB 97.0 kB/s eta 0:00:18\n",
      "   ---------------------------------- ----- 10.0/11.6 MB 97.0 kB/s eta 0:00:18\n",
      "   ---------------------------------- ----- 10.0/11.6 MB 97.0 kB/s eta 0:00:18\n",
      "   ----------------------------------- ---- 10.2/11.6 MB 96.4 kB/s eta 0:00:15\n",
      "   ----------------------------------- ---- 10.2/11.6 MB 96.4 kB/s eta 0:00:15\n",
      "   ----------------------------------- ---- 10.2/11.6 MB 96.4 kB/s eta 0:00:15\n",
      "   ----------------------------------- ---- 10.2/11.6 MB 96.4 kB/s eta 0:00:15\n",
      "   ----------------------------------- ---- 10.2/11.6 MB 96.4 kB/s eta 0:00:15\n",
      "   ----------------------------------- ---- 10.2/11.6 MB 96.4 kB/s eta 0:00:15\n",
      "   ----------------------------------- ---- 10.2/11.6 MB 96.4 kB/s eta 0:00:15\n",
      "   ----------------------------------- ---- 10.2/11.6 MB 96.4 kB/s eta 0:00:15\n",
      "   ------------------------------------ --- 10.5/11.6 MB 99.4 kB/s eta 0:00:12\n",
      "   ------------------------------------ --- 10.5/11.6 MB 99.4 kB/s eta 0:00:12\n",
      "   ------------------------------------ --- 10.5/11.6 MB 99.4 kB/s eta 0:00:12\n",
      "   ------------------------------------ --- 10.5/11.6 MB 99.4 kB/s eta 0:00:12\n",
      "   ------------------------------------ --- 10.5/11.6 MB 99.4 kB/s eta 0:00:12\n",
      "   ------------------------------------ --- 10.5/11.6 MB 99.4 kB/s eta 0:00:12\n",
      "   ------------------------------------ --- 10.5/11.6 MB 99.4 kB/s eta 0:00:12\n",
      "   ------------------------------------ --- 10.5/11.6 MB 99.4 kB/s eta 0:00:12\n",
      "   ------------------------------------ --- 10.5/11.6 MB 99.4 kB/s eta 0:00:12\n",
      "   ------------------------------------- -- 10.7/11.6 MB 99.1 kB/s eta 0:00:09\n",
      "   ------------------------------------- -- 10.7/11.6 MB 99.1 kB/s eta 0:00:09\n",
      "   ------------------------------------- -- 10.7/11.6 MB 99.1 kB/s eta 0:00:09\n",
      "   ------------------------------------- -- 10.7/11.6 MB 99.1 kB/s eta 0:00:09\n",
      "   ------------------------------------- -- 10.7/11.6 MB 99.1 kB/s eta 0:00:09\n",
      "   ------------------------------------- -- 10.7/11.6 MB 99.1 kB/s eta 0:00:09\n",
      "   ------------------------------------- -- 10.7/11.6 MB 99.1 kB/s eta 0:00:09\n",
      "   ------------------------------------- -- 10.7/11.6 MB 99.1 kB/s eta 0:00:09\n",
      "   ------------------------------------- -- 10.7/11.6 MB 99.1 kB/s eta 0:00:09\n",
      "   ------------------------------------- -- 10.7/11.6 MB 99.1 kB/s eta 0:00:09\n",
      "   ------------------------------------- -- 11.0/11.6 MB 100.0 kB/s eta 0:00:07\n",
      "   ------------------------------------- -- 11.0/11.6 MB 100.0 kB/s eta 0:00:07\n",
      "   ------------------------------------- -- 11.0/11.6 MB 100.0 kB/s eta 0:00:07\n",
      "   ------------------------------------- -- 11.0/11.6 MB 100.0 kB/s eta 0:00:07\n",
      "   ------------------------------------- -- 11.0/11.6 MB 100.0 kB/s eta 0:00:07\n",
      "   ------------------------------------- -- 11.0/11.6 MB 100.0 kB/s eta 0:00:07\n",
      "   ------------------------------------- -- 11.0/11.6 MB 100.0 kB/s eta 0:00:07\n",
      "   ------------------------------------- -- 11.0/11.6 MB 100.0 kB/s eta 0:00:07\n",
      "   ------------------------------------- -- 11.0/11.6 MB 100.0 kB/s eta 0:00:07\n",
      "   ------------------------------------- -- 11.0/11.6 MB 100.0 kB/s eta 0:00:07\n",
      "   ------------------------------------- -- 11.0/11.6 MB 100.0 kB/s eta 0:00:07\n",
      "   ------------------------------------- -- 11.0/11.6 MB 100.0 kB/s eta 0:00:07\n",
      "   ------------------------------------- -- 11.0/11.6 MB 100.0 kB/s eta 0:00:07\n",
      "   -------------------------------------- - 11.3/11.6 MB 102.5 kB/s eta 0:00:04\n",
      "   -------------------------------------- - 11.3/11.6 MB 102.5 kB/s eta 0:00:04\n",
      "   -------------------------------------- - 11.3/11.6 MB 102.5 kB/s eta 0:00:04\n",
      "   -------------------------------------- - 11.3/11.6 MB 102.5 kB/s eta 0:00:04\n",
      "   ---------------------------------------  11.5/11.6 MB 108.6 kB/s eta 0:00:01\n",
      "   ---------------------------------------- 11.6/11.6 MB 110.3 kB/s eta 0:00:00\n",
      "Downloading pytz-2025.1-py2.py3-none-any.whl (507 kB)\n",
      "Downloading tzdata-2025.1-py2.py3-none-any.whl (346 kB)\n",
      "Installing collected packages: pytz, tzdata, pandas\n",
      "Successfully installed pandas-2.2.3 pytz-2025.1 tzdata-2025.1\n"
     ]
    }
   ],
   "source": [
    "!pip install pandas"
   ]
  },
  {
   "cell_type": "code",
   "execution_count": 67,
   "metadata": {},
   "outputs": [
    {
     "data": {
      "text/plain": [
       "Text(95.72222222222221, 0.5, 'Truth')"
      ]
     },
     "execution_count": 67,
     "metadata": {},
     "output_type": "execute_result"
    },
    {
     "data": {
      "image/png": "[encoded data removed]",
      "text/plain": [
       "<Figure size 1000x700 with 2 Axes>"
      ]
     },
     "metadata": {},
     "output_type": "display_data"
    }
   ],
   "source": [
    "import seaborn as sn\n",
    "plt.figure(figsize = (10,7))\n",
    "sn.heatmap(cm, annot=True, fmt='d')\n",
    "plt.xlabel(\"Predicted\")\n",
    "plt.ylabel(\"Truth\")"
   ]
  },
  {
   "cell_type": "markdown",
   "metadata": {},
   "source": [
    "If we use dense layer"
   ]
  },
  {
   "cell_type": "code",
   "execution_count": 69,
   "metadata": {},
   "outputs": [
    {
     "name": "stderr",
     "output_type": "stream",
     "text": [
      "c:\\Users\\User\\anaconda3\\envs\\tf_env\\lib\\site-packages\\keras\\src\\layers\\core\\dense.py:87: UserWarning: Do not pass an `input_shape`/`input_dim` argument to a layer. When using Sequential models, prefer using an `Input(shape)` object as the first layer in the model instead.\n",
      "  super().__init__(activity_regularizer=activity_regularizer, **kwargs)\n"
     ]
    },
    {
     "name": "stdout",
     "output_type": "stream",
     "text": [
      "Epoch 1/5\n",
      "\u001b[1m1875/1875\u001b[0m \u001b[32m━━━━━━━━━━━━━━━━━━━━\u001b[0m\u001b[37m\u001b[0m \u001b[1m5s\u001b[0m 2ms/step - accuracy: 0.8717 - loss: 0.4497\n",
      "Epoch 2/5\n",
      "\u001b[1m1875/1875\u001b[0m \u001b[32m━━━━━━━━━━━━━━━━━━━━\u001b[0m\u001b[37m\u001b[0m \u001b[1m4s\u001b[0m 2ms/step - accuracy: 0.9615 - loss: 0.1335\n",
      "Epoch 3/5\n",
      "\u001b[1m1875/1875\u001b[0m \u001b[32m━━━━━━━━━━━━━━━━━━━━\u001b[0m\u001b[37m\u001b[0m \u001b[1m3s\u001b[0m 2ms/step - accuracy: 0.9734 - loss: 0.0899\n",
      "Epoch 4/5\n",
      "\u001b[1m1875/1875\u001b[0m \u001b[32m━━━━━━━━━━━━━━━━━━━━\u001b[0m\u001b[37m\u001b[0m \u001b[1m3s\u001b[0m 2ms/step - accuracy: 0.9801 - loss: 0.0658\n",
      "Epoch 5/5\n",
      "\u001b[1m1875/1875\u001b[0m \u001b[32m━━━━━━━━━━━━━━━━━━━━\u001b[0m\u001b[37m\u001b[0m \u001b[1m3s\u001b[0m 2ms/step - accuracy: 0.9842 - loss: 0.0523\n"
     ]
    },
    {
     "data": {
      "text/plain": [
       "<keras.src.callbacks.history.History at 0x1e642a919a0>"
      ]
     },
     "execution_count": 69,
     "metadata": {},
     "output_type": "execute_result"
    }
   ],
   "source": [
    "model = keras.Sequential([\n",
    "    keras.layers.Dense(100, input_shape = (784,),activation=\"relu\"),\n",
    "    keras.layers.Dense(10,activation=\"sigmoid\")\n",
    "])\n",
    "model.compile(\n",
    "    optimizer='adam',\n",
    "    loss='sparse_categorical_crossentropy',\n",
    "    metrics=['accuracy']\n",
    "    )\n",
    "model.fit(x_train_flattened, y_train, epochs=5)"
   ]
  },
  {
   "cell_type": "code",
   "execution_count": 70,
   "metadata": {},
   "outputs": [
    {
     "name": "stdout",
     "output_type": "stream",
     "text": [
      "\u001b[1m313/313\u001b[0m \u001b[32m━━━━━━━━━━━━━━━━━━━━\u001b[0m\u001b[37m\u001b[0m \u001b[1m1s\u001b[0m 1ms/step - accuracy: 0.9699 - loss: 0.0966\n"
     ]
    },
    {
     "data": {
      "text/plain": [
       "[0.08427698165178299, 0.9740999937057495]"
      ]
     },
     "execution_count": 70,
     "metadata": {},
     "output_type": "execute_result"
    }
   ],
   "source": [
    "model.evaluate(x_test_flattened, y_test)"
   ]
  },
  {
   "cell_type": "code",
   "execution_count": 71,
   "metadata": {},
   "outputs": [
    {
     "name": "stdout",
     "output_type": "stream",
     "text": [
      "\u001b[1m313/313\u001b[0m \u001b[32m━━━━━━━━━━━━━━━━━━━━\u001b[0m\u001b[37m\u001b[0m \u001b[1m0s\u001b[0m 930us/step\n"
     ]
    },
    {
     "data": {
      "text/plain": [
       "Text(95.72222222222221, 0.5, 'Truth')"
      ]
     },
     "execution_count": 71,
     "metadata": {},
     "output_type": "execute_result"
    },
    {
     "data": {
      "image/png": "[encoded data removed]",
      "text/plain": [
       "<Figure size 1000x700 with 2 Axes>"
      ]
     },
     "metadata": {},
     "output_type": "display_data"
    }
   ],
   "source": [
    "y_predicted = model.predict(x_test_flattened)\n",
    "y_predicted_labels = [np.argmax(i) for i in y_predicted]\n",
    "cm = tf.math.confusion_matrix(labels=y_test, predictions=y_predicted_labels)\n",
    "\n",
    "import seaborn as sn\n",
    "plt.figure(figsize = (10,7))\n",
    "sn.heatmap(cm, annot=True, fmt='d')\n",
    "plt.xlabel(\"Predicted\")\n",
    "plt.ylabel(\"Truth\")"
   ]
  },
  {
   "cell_type": "code",
   "execution_count": null,
   "metadata": {},
   "outputs": [],
   "source": []
  },
  {
   "cell_type": "code",
   "execution_count": 73,
   "metadata": {},
   "outputs": [
    {
     "name": "stdout",
     "output_type": "stream",
     "text": [
      "Epoch 1/5\n",
      "\u001b[1m1875/1875\u001b[0m \u001b[32m━━━━━━━━━━━━━━━━━━━━\u001b[0m\u001b[37m\u001b[0m \u001b[1m4s\u001b[0m 2ms/step - accuracy: 0.8151 - loss: 7.1969\n",
      "Epoch 2/5\n",
      "\u001b[1m1875/1875\u001b[0m \u001b[32m━━━━━━━━━━━━━━━━━━━━\u001b[0m\u001b[37m\u001b[0m \u001b[1m3s\u001b[0m 2ms/step - accuracy: 0.8913 - loss: 0.4539\n",
      "Epoch 3/5\n",
      "\u001b[1m1875/1875\u001b[0m \u001b[32m━━━━━━━━━━━━━━━━━━━━\u001b[0m\u001b[37m\u001b[0m \u001b[1m4s\u001b[0m 2ms/step - accuracy: 0.9197 - loss: 0.3219\n",
      "Epoch 4/5\n",
      "\u001b[1m1875/1875\u001b[0m \u001b[32m━━━━━━━━━━━━━━━━━━━━\u001b[0m\u001b[37m\u001b[0m \u001b[1m5s\u001b[0m 2ms/step - accuracy: 0.9295 - loss: 0.2743\n",
      "Epoch 5/5\n",
      "\u001b[1m1875/1875\u001b[0m \u001b[32m━━━━━━━━━━━━━━━━━━━━\u001b[0m\u001b[37m\u001b[0m \u001b[1m4s\u001b[0m 2ms/step - accuracy: 0.9382 - loss: 0.2394\n"
     ]
    },
    {
     "data": {
      "text/plain": [
       "<keras.src.callbacks.history.History at 0x1e64a2ffc40>"
      ]
     },
     "execution_count": 73,
     "metadata": {},
     "output_type": "execute_result"
    }
   ],
   "source": [
    "model = keras.Sequential([\n",
    "    keras.layers.Flatten(input_shape=(28,28)),\n",
    "    keras.layers.Dense(100,activation=\"relu\"),\n",
    "    keras.layers.Dense(10,activation=\"sigmoid\")\n",
    "])\n",
    "model.compile(\n",
    "    optimizer='adam',\n",
    "    loss='sparse_categorical_crossentropy',\n",
    "    metrics=['accuracy']\n",
    "    )\n",
    "model.fit(x_train, y_train, epochs=5)"
   ]
  },
  {
   "cell_type": "code",
   "execution_count": null,
   "metadata": {},
   "outputs": [],
   "source": []
  }
 ],
 "metadata": {
  "kernelspec": {
   "display_name": "Python (tf_env)",
   "language": "python",
   "name": "tf_env"
  },
  "language_info": {
   "codemirror_mode": {
    "name": "ipython",
    "version": 3
   },
   "file_extension": ".py",
   "mimetype": "text/x-python",
   "name": "python",
   "nbconvert_exporter": "python",
   "pygments_lexer": "ipython3",
   "version": "3.9.20"
  }
 },
 "nbformat": 4,
 "nbformat_minor": 2
}
